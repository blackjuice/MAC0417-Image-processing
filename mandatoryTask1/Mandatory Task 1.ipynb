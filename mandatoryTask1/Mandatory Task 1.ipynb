{
 "cells": [
  {
   "cell_type": "markdown",
   "metadata": {},
   "source": [
    "# Enunciados dos exercícios do notebook Atividade_1_3.ipynb\n",
    "\n",
    "Abaixo estão os enunciados dos 3 exercícios que devem ser feitos e entregues até o dia 7 de maio. Para estes exercícios, evite o uso de laços explícitos com o uso de ``for``, e use os conceitos de fatiamento discutidos nos tutoriais de numpy."
   ]
  },
  {
   "cell_type": "markdown",
   "metadata": {},
   "source": [
    "### 1. Programa para sobrepor quadriculado em imagem de cinza.\n",
    "\n",
    "Escrever um programa que dada uma imagem em níveis de cinza tipo uint8, sobreponha um quadriculado branco (valor 255) de lado definido. A função recebe dois parâmetros: f e delta. O primeiro parâmetro f é a imagem onde o quadriculado será sobreposto e delta é a distância entre as linhas, em coordenadas.\n",
    "\n",
    "### 2. Programa de imagens de quadrados cinzas.\n",
    "\n",
    "Escrever um programa que gere uma imagem com quadrados cinzas. São dois quadrados maiores, concatenados horizontalmente de lado 300 pixels cada. O da esquerda é mais escuro que o da direita. Cada um destes quadrados possui no seu centro, um outro quadrado de lado 100 pixels. Existem 3 tons de cinza, para os quadrados maiores, o da esquerda tem o valor de 64 e o da direita, 192 e os quadrados menores têm tom igual de valor 128.\n",
    "\n",
    "Esta imagem será utilizada para demonstrar nossa percepção relativa. Apesar dos dois quadrados pequenos terem o mesmo nível de cinza, o fato deles estarem circundados com níveis mais claro ou escuro nos dá a impressão que o quadrado que está circundado com nível mais escuro pareça mais claro que a realidade.\n",
    "\n",
    "Em geral, uma imagem é composta de centena de milhares de pixels e é difícil verificar visualmente se existe algum erro nos programas desenvolvidos. Assim, é sempre recomendável testar os programas com imagens bem pequenas que possam ser visualizadas pela impressão da sua matriz de pixels. Assim, a função deve ter um único parâmetro: isImg. Se ele for verdadeiro, a função retorna a imagem acima com 300 linhas e 600 colunas, se for falso, a função retorna uma versão com um fator 50 vezes menor na altura e na largura, retornando uma imagem com 6 linhas e 12 colunas.\n",
    "\n",
    "\n",
    "### 3. Programa para rotacionar uma imagem de 90 graus no sentido horário \n",
    "\n",
    "Escrever um programa que dada uma imagem em níveis de cinza, rotacione-a de 90 graus no sentido horário. A função recebe apenas um parâmetros: f, a imagem a ser rotacionada.\n"
   ]
  }
 ],
 "metadata": {
  "kernelspec": {
   "display_name": "Python 3",
   "language": "python",
   "name": "python3"
  },
  "language_info": {
   "codemirror_mode": {
    "name": "ipython",
    "version": 3
   },
   "file_extension": ".py",
   "mimetype": "text/x-python",
   "name": "python",
   "nbconvert_exporter": "python",
   "pygments_lexer": "ipython3",
   "version": "3.4.3"
  }
 },
 "nbformat": 4,
 "nbformat_minor": 2
}
