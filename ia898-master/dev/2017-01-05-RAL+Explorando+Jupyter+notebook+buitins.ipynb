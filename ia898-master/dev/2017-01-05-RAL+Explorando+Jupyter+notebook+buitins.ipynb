{
 "cells": [
  {
   "cell_type": "markdown",
   "metadata": {
    "nbpresent": {
     "id": "43b47e93-3ee3-4f6e-a2a0-cedb7449a3de"
    }
   },
   "source": [
    "# Jupyter builtings: magics"
   ]
  },
  {
   "cell_type": "code",
   "execution_count": 1,
   "metadata": {
    "collapsed": false,
    "nbpresent": {
     "id": "be5ea34a-ea29-4bd5-ac4c-8c364763a6d4"
    }
   },
   "outputs": [
    {
     "data": {
      "application/json": {
       "cell": {
        "!": "OSMagics",
        "HTML": "Other",
        "SVG": "Other",
        "bash": "Other",
        "capture": "ExecutionMagics",
        "debug": "ExecutionMagics",
        "file": "Other",
        "html": "DisplayMagics",
        "javascript": "DisplayMagics",
        "latex": "DisplayMagics",
        "perl": "Other",
        "prun": "ExecutionMagics",
        "pypy": "Other",
        "python": "Other",
        "python2": "Other",
        "python3": "Other",
        "ruby": "Other",
        "script": "ScriptMagics",
        "sh": "Other",
        "svg": "DisplayMagics",
        "sx": "OSMagics",
        "system": "OSMagics",
        "time": "ExecutionMagics",
        "timeit": "ExecutionMagics",
        "writefile": "OSMagics"
       },
       "line": {
        "alias": "OSMagics",
        "alias_magic": "BasicMagics",
        "autocall": "AutoMagics",
        "automagic": "AutoMagics",
        "autosave": "KernelMagics",
        "bookmark": "OSMagics",
        "cat": "Other",
        "cd": "OSMagics",
        "clear": "KernelMagics",
        "colors": "BasicMagics",
        "config": "ConfigMagics",
        "connect_info": "KernelMagics",
        "cp": "Other",
        "debug": "ExecutionMagics",
        "dhist": "OSMagics",
        "dirs": "OSMagics",
        "doctest_mode": "BasicMagics",
        "ed": "Other",
        "edit": "KernelMagics",
        "env": "OSMagics",
        "gui": "BasicMagics",
        "hist": "Other",
        "history": "HistoryMagics",
        "install_default_config": "DeprecatedMagics",
        "install_ext": "ExtensionMagics",
        "install_profiles": "DeprecatedMagics",
        "killbgscripts": "ScriptMagics",
        "ldir": "Other",
        "less": "KernelMagics",
        "lf": "Other",
        "lk": "Other",
        "ll": "Other",
        "load": "CodeMagics",
        "load_ext": "ExtensionMagics",
        "loadpy": "CodeMagics",
        "logoff": "LoggingMagics",
        "logon": "LoggingMagics",
        "logstart": "LoggingMagics",
        "logstate": "LoggingMagics",
        "logstop": "LoggingMagics",
        "ls": "Other",
        "lsmagic": "BasicMagics",
        "lx": "Other",
        "macro": "ExecutionMagics",
        "magic": "BasicMagics",
        "man": "KernelMagics",
        "matplotlib": "PylabMagics",
        "mkdir": "Other",
        "more": "KernelMagics",
        "mv": "Other",
        "notebook": "BasicMagics",
        "page": "BasicMagics",
        "pastebin": "CodeMagics",
        "pdb": "ExecutionMagics",
        "pdef": "NamespaceMagics",
        "pdoc": "NamespaceMagics",
        "pfile": "NamespaceMagics",
        "pinfo": "NamespaceMagics",
        "pinfo2": "NamespaceMagics",
        "popd": "OSMagics",
        "pprint": "BasicMagics",
        "precision": "BasicMagics",
        "profile": "BasicMagics",
        "prun": "ExecutionMagics",
        "psearch": "NamespaceMagics",
        "psource": "NamespaceMagics",
        "pushd": "OSMagics",
        "pwd": "OSMagics",
        "pycat": "OSMagics",
        "pylab": "PylabMagics",
        "qtconsole": "KernelMagics",
        "quickref": "BasicMagics",
        "recall": "HistoryMagics",
        "rehashx": "OSMagics",
        "reload_ext": "ExtensionMagics",
        "rep": "Other",
        "rerun": "HistoryMagics",
        "reset": "NamespaceMagics",
        "reset_selective": "NamespaceMagics",
        "rm": "Other",
        "rmdir": "Other",
        "run": "ExecutionMagics",
        "save": "CodeMagics",
        "sc": "OSMagics",
        "set_env": "OSMagics",
        "store": "StoreMagics",
        "sx": "OSMagics",
        "system": "OSMagics",
        "tb": "ExecutionMagics",
        "time": "ExecutionMagics",
        "timeit": "ExecutionMagics",
        "unalias": "OSMagics",
        "unload_ext": "ExtensionMagics",
        "who": "NamespaceMagics",
        "who_ls": "NamespaceMagics",
        "whos": "NamespaceMagics",
        "xdel": "NamespaceMagics",
        "xmode": "BasicMagics"
       }
      },
      "text/plain": [
       "Available line magics:\n",
       "%alias  %alias_magic  %autocall  %automagic  %autosave  %bookmark  %cat  %cd  %clear  %colors  %config  %connect_info  %cp  %debug  %dhist  %dirs  %doctest_mode  %ed  %edit  %env  %gui  %hist  %history  %install_default_config  %install_ext  %install_profiles  %killbgscripts  %ldir  %less  %lf  %lk  %ll  %load  %load_ext  %loadpy  %logoff  %logon  %logstart  %logstate  %logstop  %ls  %lsmagic  %lx  %macro  %magic  %man  %matplotlib  %mkdir  %more  %mv  %notebook  %page  %pastebin  %pdb  %pdef  %pdoc  %pfile  %pinfo  %pinfo2  %popd  %pprint  %precision  %profile  %prun  %psearch  %psource  %pushd  %pwd  %pycat  %pylab  %qtconsole  %quickref  %recall  %rehashx  %reload_ext  %rep  %rerun  %reset  %reset_selective  %rm  %rmdir  %run  %save  %sc  %set_env  %store  %sx  %system  %tb  %time  %timeit  %unalias  %unload_ext  %who  %who_ls  %whos  %xdel  %xmode\n",
       "\n",
       "Available cell magics:\n",
       "%%!  %%HTML  %%SVG  %%bash  %%capture  %%debug  %%file  %%html  %%javascript  %%latex  %%perl  %%prun  %%pypy  %%python  %%python2  %%python3  %%ruby  %%script  %%sh  %%svg  %%sx  %%system  %%time  %%timeit  %%writefile\n",
       "\n",
       "Automagic is ON, % prefix IS NOT needed for line magics."
      ]
     },
     "execution_count": 1,
     "metadata": {},
     "output_type": "execute_result"
    }
   ],
   "source": [
    "%lsmagic"
   ]
  },
  {
   "cell_type": "raw",
   "metadata": {
    "collapsed": true,
    "nbpresent": {
     "id": "be6ddcc4-e76f-4ddc-9cd6-c60d78ed31d5"
    }
   },
   "source": [
    "# Retrieving documentation on the alias_magic command\n",
    "?%matplotlib"
   ]
  },
  {
   "cell_type": "markdown",
   "metadata": {
    "nbpresent": {
     "id": "d54c7652-2b8e-453b-9f3d-9a6be2b77505"
    }
   },
   "source": [
    "# Usando %time e %timeit"
   ]
  },
  {
   "cell_type": "markdown",
   "metadata": {
    "nbpresent": {
     "id": "0ffe97bf-1418-4d0f-a14a-06db871c2e8d"
    }
   },
   "source": [
    "## Medindo tempo de cada linha usando %time"
   ]
  },
  {
   "cell_type": "raw",
   "metadata": {
    "collapsed": false,
    "nbpresent": {
     "id": "21ade8ee-681e-4421-abff-95c5e3cac7a0"
    }
   },
   "source": [
    "# \n",
    "%time a = range(10000)\n",
    "%time b = range(100)\n"
   ]
  },
  {
   "cell_type": "markdown",
   "metadata": {
    "nbpresent": {
     "id": "642c701a-da7e-4c2a-88e9-7a1398d860f2"
    }
   },
   "source": [
    "## Estimando tempo médio de cada linha usando %timeit"
   ]
  },
  {
   "cell_type": "code",
   "execution_count": 2,
   "metadata": {
    "collapsed": false,
    "nbpresent": {
     "id": "8bcd3e79-4beb-4c87-8ffa-176608c9b082"
    }
   },
   "outputs": [
    {
     "name": "stdout",
     "output_type": "stream",
     "text": [
      "10000 loops, best of 3: 94.3 µs per loop\n",
      "1000000 loops, best of 3: 681 ns per loop\n"
     ]
    }
   ],
   "source": [
    "%timeit a = range(10000)\n",
    "%timeit a = range(100)"
   ]
  },
  {
   "cell_type": "markdown",
   "metadata": {
    "nbpresent": {
     "id": "e38b8c3b-d174-456b-87da-838195a0c3b1"
    }
   },
   "source": [
    "## Estimando tempo médio da célula usando %%timeit"
   ]
  },
  {
   "cell_type": "code",
   "execution_count": 3,
   "metadata": {
    "collapsed": false,
    "nbpresent": {
     "id": "1b117165-4697-43df-bd92-9c059bf981b1"
    }
   },
   "outputs": [
    {
     "name": "stdout",
     "output_type": "stream",
     "text": [
      "10000 loops, best of 3: 92.4 µs per loop\n"
     ]
    }
   ],
   "source": [
    "%%timeit\n",
    "a = range(10000)\n",
    "b = range(100)"
   ]
  },
  {
   "cell_type": "markdown",
   "metadata": {
    "nbpresent": {
     "id": "94abfd64-9fa7-4ed7-837e-dba5947f4f45"
    }
   },
   "source": [
    "## Performance run usando %%prun"
   ]
  },
  {
   "cell_type": "code",
   "execution_count": 4,
   "metadata": {
    "collapsed": false,
    "nbpresent": {
     "id": "2e3ae849-b784-4c25-b0c1-ec201db4371c"
    }
   },
   "outputs": [
    {
     "name": "stdout",
     "output_type": "stream",
     "text": [
      " "
     ]
    }
   ],
   "source": [
    "%%prun\n",
    "import numpy as np\n"
   ]
  },
  {
   "cell_type": "code",
   "execution_count": 5,
   "metadata": {
    "collapsed": false,
    "nbpresent": {
     "id": "33446bf0-13d8-4a1b-953f-0ed2d5b170f1"
    }
   },
   "outputs": [
    {
     "name": "stdout",
     "output_type": "stream",
     "text": [
      " "
     ]
    }
   ],
   "source": [
    "%%prun\n",
    "a = np.ones((1000,1000))"
   ]
  },
  {
   "cell_type": "code",
   "execution_count": null,
   "metadata": {
    "collapsed": true,
    "nbpresent": {
     "id": "64f5bfea-e292-449c-8c9d-4f056ee93254"
    }
   },
   "outputs": [],
   "source": []
  }
 ],
 "metadata": {
  "anaconda-cloud": {},
  "kernelspec": {
   "display_name": "Python [Root]",
   "language": "python",
   "name": "Python [Root]"
  },
  "language_info": {
   "codemirror_mode": {
    "name": "ipython",
    "version": 2
   },
   "file_extension": ".py",
   "mimetype": "text/x-python",
   "name": "python",
   "nbconvert_exporter": "python",
   "pygments_lexer": "ipython2",
   "version": "2.7.12"
  },
  "nbpresent": {
   "slides": {
    "0498200c-5047-4a30-94c9-b46ed3f22384": {
     "id": "0498200c-5047-4a30-94c9-b46ed3f22384",
     "prev": "269429ec-b312-4070-9931-2561c41c40c2",
     "regions": {
      "db8b1ac7-a29e-4cc8-abf3-51d35f934f7d": {
       "attrs": {
        "height": 0.8,
        "width": 0.8,
        "x": 0.1,
        "y": 0.1
       },
       "content": {
        "cell": "21ade8ee-681e-4421-abff-95c5e3cac7a0",
        "part": "whole"
       },
       "id": "db8b1ac7-a29e-4cc8-abf3-51d35f934f7d"
      }
     }
    },
    "15af59c0-1039-45fc-9229-5ddaa91e2875": {
     "id": "15af59c0-1039-45fc-9229-5ddaa91e2875",
     "prev": "645cc094-6fe9-4970-a507-441a08721255",
     "regions": {
      "55e12372-4add-413a-8fde-a595eae3c8fb": {
       "attrs": {
        "height": 0.8,
        "width": 0.8,
        "x": 0.1,
        "y": 0.1
       },
       "content": {
        "cell": "2e3ae849-b784-4c25-b0c1-ec201db4371c",
        "part": "whole"
       },
       "id": "55e12372-4add-413a-8fde-a595eae3c8fb"
      }
     }
    },
    "269429ec-b312-4070-9931-2561c41c40c2": {
     "id": "269429ec-b312-4070-9931-2561c41c40c2",
     "prev": "ed193619-c2d1-491f-bbb0-f34894b16acb",
     "regions": {
      "d0ad84db-3738-43b0-bd5b-7ddf16fab6fb": {
       "attrs": {
        "height": 0.8,
        "width": 0.8,
        "x": 0.1,
        "y": 0.1
       },
       "content": {
        "cell": "0ffe97bf-1418-4d0f-a14a-06db871c2e8d",
        "part": "whole"
       },
       "id": "d0ad84db-3738-43b0-bd5b-7ddf16fab6fb"
      }
     }
    },
    "2ed47b90-c89a-4365-8de6-58148d05721f": {
     "id": "2ed47b90-c89a-4365-8de6-58148d05721f",
     "prev": "0498200c-5047-4a30-94c9-b46ed3f22384",
     "regions": {
      "d78bbbdf-2787-4050-8e71-614893643c2b": {
       "attrs": {
        "height": 0.8,
        "width": 0.8,
        "x": 0.1,
        "y": 0.1
       },
       "content": {
        "cell": "642c701a-da7e-4c2a-88e9-7a1398d860f2",
        "part": "whole"
       },
       "id": "d78bbbdf-2787-4050-8e71-614893643c2b"
      }
     }
    },
    "3587b554-de93-4296-97cd-cbb1f32ec064": {
     "id": "3587b554-de93-4296-97cd-cbb1f32ec064",
     "prev": "39c37279-fbe2-4190-9ace-aee37db8a49b",
     "regions": {
      "85b53ebf-3354-4888-b779-6e716038191e": {
       "attrs": {
        "height": 0.8,
        "width": 0.8,
        "x": 0.1,
        "y": 0.1
       },
       "content": {
        "cell": "be5ea34a-ea29-4bd5-ac4c-8c364763a6d4",
        "part": "whole"
       },
       "id": "85b53ebf-3354-4888-b779-6e716038191e"
      }
     }
    },
    "39c37279-fbe2-4190-9ace-aee37db8a49b": {
     "id": "39c37279-fbe2-4190-9ace-aee37db8a49b",
     "prev": null,
     "regions": {
      "2349ea9e-fc3e-4b67-b627-a22a279a91bd": {
       "attrs": {
        "height": 0.8,
        "width": 0.8,
        "x": 0.1,
        "y": 0.1
       },
       "content": {
        "cell": "43b47e93-3ee3-4f6e-a2a0-cedb7449a3de",
        "part": "whole"
       },
       "id": "2349ea9e-fc3e-4b67-b627-a22a279a91bd"
      }
     }
    },
    "584f0e94-9123-4ec9-8352-354bcf5805bf": {
     "id": "584f0e94-9123-4ec9-8352-354bcf5805bf",
     "prev": "f89bc4ca-fd30-47b2-a1dc-e14740d15767",
     "regions": {
      "879f8456-4997-485f-a2f9-588ee8cc96b0": {
       "attrs": {
        "height": 0.8,
        "width": 0.8,
        "x": 0.1,
        "y": 0.1
       },
       "content": {
        "cell": "1b117165-4697-43df-bd92-9c059bf981b1",
        "part": "whole"
       },
       "id": "879f8456-4997-485f-a2f9-588ee8cc96b0"
      }
     }
    },
    "645cc094-6fe9-4970-a507-441a08721255": {
     "id": "645cc094-6fe9-4970-a507-441a08721255",
     "prev": "584f0e94-9123-4ec9-8352-354bcf5805bf",
     "regions": {
      "a7a4cc0b-f2e6-46fa-ba8d-1f14d3b8db29": {
       "attrs": {
        "height": 0.8,
        "width": 0.8,
        "x": 0.1,
        "y": 0.1
       },
       "content": {
        "cell": "94abfd64-9fa7-4ed7-837e-dba5947f4f45",
        "part": "whole"
       },
       "id": "a7a4cc0b-f2e6-46fa-ba8d-1f14d3b8db29"
      }
     }
    },
    "7fa83026-b57d-468c-a124-1f9e27aa9bb5": {
     "id": "7fa83026-b57d-468c-a124-1f9e27aa9bb5",
     "prev": "2ed47b90-c89a-4365-8de6-58148d05721f",
     "regions": {
      "316f05a4-5bfe-4ce2-9b7e-0ef311bf9ba9": {
       "attrs": {
        "height": 0.8,
        "width": 0.8,
        "x": 0.1,
        "y": 0.1
       },
       "content": {
        "cell": "8bcd3e79-4beb-4c87-8ffa-176608c9b082",
        "part": "whole"
       },
       "id": "316f05a4-5bfe-4ce2-9b7e-0ef311bf9ba9"
      }
     }
    },
    "827b3157-6c9b-4075-ac0d-83133b384584": {
     "id": "827b3157-6c9b-4075-ac0d-83133b384584",
     "prev": "3587b554-de93-4296-97cd-cbb1f32ec064",
     "regions": {
      "58ab7b52-ebb5-4b6b-839a-9a9ad1de4963": {
       "attrs": {
        "height": 0.8,
        "width": 0.8,
        "x": 0.1,
        "y": 0.1
       },
       "content": {
        "cell": "be6ddcc4-e76f-4ddc-9cd6-c60d78ed31d5",
        "part": "whole"
       },
       "id": "58ab7b52-ebb5-4b6b-839a-9a9ad1de4963"
      }
     }
    },
    "d016eb4f-7fdc-4345-ba47-7af834e1b2d1": {
     "id": "d016eb4f-7fdc-4345-ba47-7af834e1b2d1",
     "prev": "15af59c0-1039-45fc-9229-5ddaa91e2875",
     "regions": {
      "2ce484bf-8b1e-4b4d-837a-c83adf19ce0f": {
       "attrs": {
        "height": 0.8,
        "width": 0.8,
        "x": 0.1,
        "y": 0.1
       },
       "content": {
        "cell": "33446bf0-13d8-4a1b-953f-0ed2d5b170f1",
        "part": "whole"
       },
       "id": "2ce484bf-8b1e-4b4d-837a-c83adf19ce0f"
      }
     }
    },
    "d9e81861-5ab8-4a78-8c0e-a134a836c892": {
     "id": "d9e81861-5ab8-4a78-8c0e-a134a836c892",
     "layout": "grid",
     "prev": "d016eb4f-7fdc-4345-ba47-7af834e1b2d1",
     "regions": {
      "23f4aabc-5dd4-4520-a551-444fb30f7513": {
       "attrs": {
        "height": 0.8333333333333334,
        "pad": 0.01,
        "width": 0.8333333333333334,
        "x": 0.08333333333333333,
        "y": 0.08333333333333333
       },
       "id": "23f4aabc-5dd4-4520-a551-444fb30f7513"
      },
      "da09a09f-02cd-4f08-bf85-bc96b6dc9820": {
       "attrs": {
        "height": 0.8333333333333334,
        "pad": 0.01,
        "width": 0.8333333333333334,
        "x": 0.08333333333333333,
        "y": 0.08333333333333333
       },
       "content": {
        "cell": "64f5bfea-e292-449c-8c9d-4f056ee93254",
        "part": "whole"
       },
       "id": "da09a09f-02cd-4f08-bf85-bc96b6dc9820"
      }
     }
    },
    "ed193619-c2d1-491f-bbb0-f34894b16acb": {
     "id": "ed193619-c2d1-491f-bbb0-f34894b16acb",
     "prev": "827b3157-6c9b-4075-ac0d-83133b384584",
     "regions": {
      "a28e86c2-b692-4bf9-b899-41c5246b1639": {
       "attrs": {
        "height": 0.8,
        "width": 0.8,
        "x": 0.1,
        "y": 0.1
       },
       "content": {
        "cell": "d54c7652-2b8e-453b-9f3d-9a6be2b77505",
        "part": "whole"
       },
       "id": "a28e86c2-b692-4bf9-b899-41c5246b1639"
      }
     }
    },
    "f89bc4ca-fd30-47b2-a1dc-e14740d15767": {
     "id": "f89bc4ca-fd30-47b2-a1dc-e14740d15767",
     "prev": "7fa83026-b57d-468c-a124-1f9e27aa9bb5",
     "regions": {
      "8e61dc8d-9931-4d7d-b721-79a35030a518": {
       "attrs": {
        "height": 0.8,
        "width": 0.8,
        "x": 0.1,
        "y": 0.1
       },
       "content": {
        "cell": "e38b8c3b-d174-456b-87da-838195a0c3b1",
        "part": "whole"
       },
       "id": "8e61dc8d-9931-4d7d-b721-79a35030a518"
      }
     }
    }
   },
   "themes": {}
  }
 },
 "nbformat": 4,
 "nbformat_minor": 1
}
