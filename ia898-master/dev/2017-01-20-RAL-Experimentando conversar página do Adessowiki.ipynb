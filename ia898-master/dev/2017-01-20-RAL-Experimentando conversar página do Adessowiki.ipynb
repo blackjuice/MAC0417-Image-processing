{
 "cells": [
  {
   "cell_type": "markdown",
   "metadata": {},
   "source": [
    "# Introdução ao Numpy\n",
    "`master:tutorial_numpy_1_index Tutorial Numpy - index` \n",
    "\n",
    "   \n",
    "## Copiando variáveis ``ndarray``\n",
    "\n",
    "Índice:\n",
    "\n",
    "O ``ndarray`` foi projetado para acesso otimizado a uma grande quantidade de dados. Neste sentido, os conceitos\n",
    "descritos a seguir sobre as três formas de cópias entre variáveis ditas sem cópia, cópia rasa (*shallow*) e\n",
    "cópia profunda (*deep*) são fundamentais para uma codificação eficiente. Podemos dizer que um ``ndarray`` possui\n",
    "o cabeçalho que contém dados pelas informações sobre o tipo do elemento, a dimensionalidade (``shape``) e \n",
    "passo ou deslocamento para o próximo elemento (``strides``) e os dados raster em si. A tabela\n",
    "a seguir mostra a situação do cabeçalho e dos dados nos três tipos de cópias.\n",
    "\n",
    "|Tipo                 | Cabeçalho: Type, Shape, Strides|  Dados raster     | Exemplo                   |\n",
    "|---------------------|--------------------------------|-------------------|---------------------------|\n",
    "|Sem cópia, apenas ref|  apontador original            | apontador original| a = b                     |\n",
    "|Cópia rasa           |  novo                          | apontador original|b = a.reshape, slicing, a.T|\n",
    "|Cópia profunda       |  novo                          | novo              |a = b.copy()               |\n",
    "\n",
    "### Sem cópia explícita, apenas referência\n",
    "\n",
    "No caso abaixo, usaremos o comando normal de igual como atribuição do array ``a`` para o array ``b``.\n",
    "Verifica-se que tanto o shape como os dados de ``b`` são os mesmos de ``a``. Tudo se passa como ``b``\n",
    "fosse apenas um apontador para ``a``. Qualquer modificação em ``b`` é refletida em ``a``. \n",
    "   "
   ]
  },
  {
   "cell_type": "code",
   "execution_count": 1,
   "metadata": {
    "collapsed": false
   },
   "outputs": [
    {
     "name": "stdout",
     "output_type": "stream",
     "text": [
      "a =\n",
      "[0 1 2 3 4 5]\n",
      "b =\n",
      "[0 1 2 3 4 5]\n",
      "\n",
      "a shape = (2, 3)\n",
      "a =\n",
      "[[-1  1  2]\n",
      " [ 3  4  5]]\n",
      "\n",
      "id de a =  140638036202160\n",
      "id de b =  140638036202160\n",
      "np.may_share_memory(a,b): True\n"
     ]
    }
   ],
   "source": [
    "import numpy as np\n",
    "\n",
    "a = np.arange(6) \n",
    "b = a\n",
    "print \"a =\\n\",a\n",
    "print \"b =\\n\",b\n",
    "b.shape = (2,3)                           # mudança no shape de b,\n",
    "print \"\\na shape =\",a.shape               # altera o shape de a\n",
    "\n",
    "b[0,0] = -1                               # mudança no conteúdo de b\n",
    "print \"a =\\n\",a                             # altera o conteudo de a  \n",
    "\n",
    "print \"\\nid de a = \",id(a)                # id é um identificador único de objeto\n",
    "print \"id de b = \",id(b)                  # a e b possuem o mesmo id\n",
    "\n",
    "print 'np.may_share_memory(a,b):',np.may_share_memory(a,b)"
   ]
  },
  {
   "cell_type": "markdown",
   "metadata": {},
   "source": [
    "Observe que mesmo no retorno de uma função, a cópia explícita pode não acontecer. Veja o exemplo a\n",
    "seguir de uma função que apenas retorna a variável de entrada:"
   ]
  },
  {
   "cell_type": "code",
   "execution_count": 2,
   "metadata": {
    "collapsed": false
   },
   "outputs": [
    {
     "name": "stdout",
     "output_type": "stream",
     "text": [
      "id de a =  140638036202160\n",
      "id de b =  140638036202160\n",
      "np.may_share_memory(a,b): True\n"
     ]
    }
   ],
   "source": [
    "def cc(a):\n",
    "  return a\n",
    "b = cc(a)\n",
    "print \"id de a = \",id(a)\n",
    "print \"id de b = \",id(b)\n",
    "print 'np.may_share_memory(a,b):',np.may_share_memory(a,b)"
   ]
  },
  {
   "cell_type": "markdown",
   "metadata": {},
   "source": [
    "### Cópia rasa\n",
    "\n",
    "A cópia rasa é muito útil e extensivamente utilizada. É usada quando se quer indexar o array original \n",
    "através da mudança de dimensionalidade ou do \n",
    "refatiamento, porém sem a necessidade de realizar uma cópia dos dados raster. Desta forma consegue-se\n",
    "uma otimização no acesso ao array n-dimensional. Existem várias formas onde a cópia rasa acontece,\n",
    "sendo as principais:\n",
    "\n",
    "1. no caso do ``reshape`` onde o número de elementos do ``ndarray`` é o mesmo, porém sua dimensionalidade\n",
    "é alterada; \n",
    "2. no caso de fatiamento onde um subarray é indexado; \n",
    "3. no caso de transposição do array;\n",
    "4. no caso de linearização do raster através do ``ravel()``. entre outros.\n",
    "\n",
    "### Reshape\n",
    "\n",
    "O exemplo a seguir mostra inicialmente a criação de um vetor unidimensional sequencial sendo \"visto\" de\n",
    "forma bidimensional ou tridimensional."
   ]
  },
  {
   "cell_type": "code",
   "execution_count": 3,
   "metadata": {
    "collapsed": false
   },
   "outputs": [
    {
     "name": "stdout",
     "output_type": "stream",
     "text": [
      "a =\n",
      "[ 0  1  2  3  4  5  6  7  8  9 10 11 12 13 14 15 16 17 18 19 20 21 22 23 24\n",
      " 25 26 27 28 29]\n",
      "b =\n",
      "[[ 0  1  2  3  4  5]\n",
      " [ 6  7  8  9 10 11]\n",
      " [12 13 14 15 16 17]\n",
      " [18 19 20 21 22 23]\n",
      " [24 25 26 27 28 29]]\n",
      "a =\n",
      "[-1  1  2  3  4  5 -1  7  8  9 10 11 -1 13 14 15 16 17 -1 19 20 21 22 23 -1\n",
      " 25 26 27 28 29]\n",
      "c =\n",
      "[[[-1  1  2  3  4]\n",
      "  [ 5 -1  7  8  9]\n",
      "  [10 11 -1 13 14]]\n",
      "\n",
      " [[15 16 17 -1 19]\n",
      "  [20 21 22 23 -1]\n",
      "  [25 26 27 28 29]]]\n",
      "c.base is a: True\n",
      "np.may_share_memory(a,c): True\n"
     ]
    }
   ],
   "source": [
    "a = np.arange(30)\n",
    "print \"a =\\n\", a\n",
    "b = a.reshape( (5, 6))\n",
    "print \"b =\\n\", b\n",
    "b[:, 0] = -1\n",
    "print \"a =\\n\", a\n",
    "c = a.reshape( (2, 3, 5) )\n",
    "print \"c =\\n\", c\n",
    "print 'c.base is a:',c.base is a\n",
    "print 'np.may_share_memory(a,c):',np.may_share_memory(a,c)"
   ]
  },
  {
   "cell_type": "markdown",
   "metadata": {},
   "source": [
    "### Slice - Fatiamento\n",
    "\n",
    "O exemplo a seguir mostra a cópia rasa no uso de fatiamento. No exemplo, todos os elementos de linhas\n",
    "e colunas pares são modificados para 1. **CUIDADO:** quando é feita a atribuição de ``b = 1.``, é importante\n",
    "que ``b`` seja referenciado como ndarray na forma ``b[:,:]``, caso contrário, se fizermos ``b = 1.``, uma nova \n",
    "variável é criada.\n",
    " "
   ]
  },
  {
   "cell_type": "code",
   "execution_count": 4,
   "metadata": {
    "collapsed": false
   },
   "outputs": [
    {
     "ename": "ImportError",
     "evalue": "No module named ia636",
     "output_type": "error",
     "traceback": [
      "\u001b[1;31m---------------------------------------------------------------------------\u001b[0m",
      "\u001b[1;31mImportError\u001b[0m                               Traceback (most recent call last)",
      "\u001b[1;32m<ipython-input-4-fd1a7c1f0e54>\u001b[0m in \u001b[0;36m<module>\u001b[1;34m()\u001b[0m\n\u001b[1;32m----> 1\u001b[1;33m \u001b[1;32mimport\u001b[0m \u001b[0mia636\u001b[0m \u001b[1;32mas\u001b[0m \u001b[0mia\u001b[0m\u001b[1;33m\u001b[0m\u001b[0m\n\u001b[0m\u001b[0;32m      2\u001b[0m \u001b[1;33m\u001b[0m\u001b[0m\n\u001b[0;32m      3\u001b[0m \u001b[0ma\u001b[0m \u001b[1;33m=\u001b[0m \u001b[0mnp\u001b[0m\u001b[1;33m.\u001b[0m\u001b[0mzeros\u001b[0m\u001b[1;33m(\u001b[0m \u001b[1;33m(\u001b[0m\u001b[1;36m5\u001b[0m\u001b[1;33m,\u001b[0m \u001b[1;36m6\u001b[0m\u001b[1;33m)\u001b[0m\u001b[1;33m)\u001b[0m\u001b[1;33m\u001b[0m\u001b[0m\n\u001b[0;32m      4\u001b[0m \u001b[1;32mprint\u001b[0m \u001b[0mia\u001b[0m\u001b[1;33m.\u001b[0m\u001b[0miaimginfo\u001b[0m\u001b[1;33m(\u001b[0m\u001b[0ma\u001b[0m\u001b[1;33m)\u001b[0m\u001b[1;33m\u001b[0m\u001b[0m\n\u001b[0;32m      5\u001b[0m \u001b[0mb\u001b[0m \u001b[1;33m=\u001b[0m \u001b[0ma\u001b[0m\u001b[1;33m[\u001b[0m\u001b[1;33m:\u001b[0m\u001b[1;33m:\u001b[0m\u001b[1;36m2\u001b[0m\u001b[1;33m,\u001b[0m\u001b[1;33m:\u001b[0m\u001b[1;33m:\u001b[0m\u001b[1;36m2\u001b[0m\u001b[1;33m]\u001b[0m\u001b[1;33m\u001b[0m\u001b[0m\n",
      "\u001b[1;31mImportError\u001b[0m: No module named ia636"
     ]
    }
   ],
   "source": [
    "import ia636 as ia\n",
    "\n",
    "a = np.zeros( (5, 6))\n",
    "print ia.iaimginfo(a)\n",
    "b = a[::2,::2]\n",
    "print ia.iaimginfo(b)\n",
    "b[:,:] = 1.\n",
    "print 'b=\\n', b \n",
    "print 'a=\\n', a \n",
    "print 'b.base is a:',b.base is a\n",
    "print 'np.may_share_memory(a,b):',np.may_share_memory(a,b)"
   ]
  },
  {
   "cell_type": "code",
   "execution_count": null,
   "metadata": {
    "collapsed": true
   },
   "outputs": [],
   "source": [
    "Este outro exemplo é uma forma atraente de processar uma coluna de uma matriz bidimensional,\n",
    "porém é preciso CUIDADO, pois o uso de b deve ser com b[:] se for atribuído um novo valor para\n",
    "ele, caso contrário, se fizermos b = arange(5), uma nova variável é criada.\n",
    "\n",
    ".. code:: python\n",
    "\n",
    "    a = np.arange(25).reshape((5,5))\n",
    "    print 'a=\\n',a\n",
    "    b = a[:,0]\n",
    "    print 'b=',b\n",
    "    b[:] = np.arange(5)\n",
    "    print 'b=',b\n",
    "    print 'a=\\n',a \n",
    "\n",
    "Transposto\n",
    "----------\n",
    "\n",
    "A operação matricial de transposição que troca linhas por colunas produz também um *view* \n",
    "da imagem, sem necessidade de cópia:\n",
    "\n",
    ".. code:: python\n",
    "\n",
    "    a = np.arange(24).reshape((4,6))\n",
    "    print 'a:\\n',a\n",
    "    at = a.T\n",
    "    print 'at:\\n',at\n",
    "    print 'np.may_share_memory(a,at):',np.may_share_memory(a,at)\n",
    "    \n",
    "Ravel\n",
    "-----\n",
    "\n",
    "Aplicando-se o método ``ravel()`` a um ``ndarray``, gera-se um *view* do raster\n",
    "linearizado (i.e. uma única dimensão) do ``ndarray``.\n",
    "\n",
    ".. code:: python\n",
    "\n",
    "    a = np.arange(24).reshape((4,6))\n",
    "    print 'a:\\n',a\n",
    "    av = a.ravel()\n",
    "    print 'av.shape:',av.shape\n",
    "    print 'av:\\n',av\n",
    "    print 'np.may_share_memory(a,av):',np.may_share_memory(a,av)\n",
    "    \n",
    "Cópia profunda\n",
    "==============\n",
    "\n",
    "Cria uma copia completa do array, do seu shape e conteúdo. A recomendação é utilizar a \n",
    "função ``copy()`` para realizar a copia profunda, entretanto é possível conseguir a\n",
    "copia profunda pelo ``np.array``.\n",
    "    \n",
    ".. code:: python\n",
    "\n",
    "    b = a.copy()\n",
    "    c = np.array(a, copy=True)\n",
    "    \n",
    "    print \"id de a = \",id(a)\n",
    "    print \"id de b = \",id(b)\n",
    "    print \"id de c = \",id(c)\n",
    "\n",
    "\n",
    "Documentação Oficial Numpy\n",
    "===========================\n",
    "\n",
    "`http://wiki.scipy.org/Tentative_NumPy_Tutorial#head-1529ae93dd5d431ffe3a1001a4ab1a394e70a5f2 Copies and Views`"
   ]
  }
 ],
 "metadata": {
  "anaconda-cloud": {},
  "kernelspec": {
   "display_name": "Python [Root]",
   "language": "python",
   "name": "Python [Root]"
  },
  "language_info": {
   "codemirror_mode": {
    "name": "ipython",
    "version": 2
   },
   "file_extension": ".py",
   "mimetype": "text/x-python",
   "name": "python",
   "nbconvert_exporter": "python",
   "pygments_lexer": "ipython2",
   "version": "2.7.12"
  }
 },
 "nbformat": 4,
 "nbformat_minor": 0
}
