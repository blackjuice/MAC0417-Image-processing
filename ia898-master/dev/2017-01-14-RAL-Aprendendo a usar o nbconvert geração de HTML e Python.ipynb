{
 "cells": [
  {
   "cell_type": "markdown",
   "metadata": {},
   "source": [
    "# nbconvert - Convertendo o notebook para HTML e arquivos Python\n",
    "\n",
    "O nbconvert permite a conversão de notebooks em outros formatos, permitindo:\n",
    "- apresentação do notebook em PDF\n",
    "- publicação de texto com LaTeX, permitindo a geração de artigos criados por notebooks\n",
    "- colaboração com outros que não utilizem notebooks\n",
    "- compartilhando conteúdo via a Web usando HTML\n",
    "- criando arquivos python, permitindo a criação de packages para distribuição\n",
    "\n",
    "O nbconvert pode ser utilizado tanto como uma biblioteca Python, com: `import nbconvert` como na \n",
    "linha de comando: `jupyter nbconvert`"
   ]
  },
  {
   "cell_type": "code",
   "execution_count": 1,
   "metadata": {
    "collapsed": false
   },
   "outputs": [
    {
     "name": "stdout",
     "output_type": "stream",
     "text": [
      "2016-12-20-RMS-JupShow.ipynb\r\n",
      "2017-01-05-RAL+Explorando+Jupyter+notebook+buitins.ipynb\r\n",
      "2017-01-05-RAL+Ferramentas+de+Edicao+HTLM+Notebook.ipynb\r\n",
      "2017-01-05-RAL+Inclusao+de+formulas+Latex.ipynb\r\n",
      "2017-01-05-RAL+Tentativa+de+fazer+funcoes+de+display+de+imagems+usando+skimage.ipynb\r\n",
      "2017-01-07-RAL-Usando e adaptando nbpil.ipynb\r\n",
      "2017-01-10-RAL-Leitura-de-imagem-com-matplotlib.ipynb\r\n",
      "2017-01-11-RAL-Desenvolvendo nbshow para mostrar varias imagens na horizontal.ipynb\r\n",
      "2017-01-14-RAL-Aprendendo a usar o nbconvert geração de HTML e Python.ipynb\r\n",
      "Autosave-other-formats.ipynb\r\n",
      "Working%20With%20Markdown%20Cells.ipynb\r\n",
      "widgets_ImageProcessing.ipynb\r\n",
      "widgets_Using Interact.ipynb\r\n"
     ]
    }
   ],
   "source": [
    "!ls"
   ]
  },
  {
   "cell_type": "code",
   "execution_count": 1,
   "metadata": {
    "collapsed": false
   },
   "outputs": [
    {
     "name": "stdout",
     "output_type": "stream",
     "text": [
      "[NbConvertApp] Converting notebook 2016-12-20-RMS-JupShow.ipynb to html\n",
      "[NbConvertApp] Writing 696601 bytes to 2016-12-20-RMS-JupShow.html\n"
     ]
    }
   ],
   "source": [
    "!jupyter nbconvert 2016-12-20-RMS-JupShow.ipynb"
   ]
  },
  {
   "cell_type": "markdown",
   "metadata": {},
   "source": [
    "## Conversão para PDF não está funcionando. Falta instalar Pandoc"
   ]
  },
  {
   "cell_type": "code",
   "execution_count": 2,
   "metadata": {
    "collapsed": false
   },
   "outputs": [],
   "source": [
    "#!jupyter nbconvert 2016-12-20-RMS-JupShow.ipynb --to pdf"
   ]
  },
  {
   "cell_type": "markdown",
   "metadata": {},
   "source": [
    "## Conversão para arquivos python"
   ]
  },
  {
   "cell_type": "code",
   "execution_count": 9,
   "metadata": {
    "collapsed": false
   },
   "outputs": [
    {
     "name": "stdout",
     "output_type": "stream",
     "text": [
      "[NbConvertApp] Converting notebook 2016-12-20-RMS-JupShow.ipynb to python\n",
      "[NbConvertApp] Writing 4284 bytes to ../src/2016-12-20-RMS-JupShow.py\n"
     ]
    }
   ],
   "source": [
    "!jupyter nbconvert 2016-12-20-RMS-JupShow.ipynb --to python --output ../src/2016-12-20-RMS-JupShow.py"
   ]
  },
  {
   "cell_type": "code",
   "execution_count": null,
   "metadata": {
    "collapsed": false
   },
   "outputs": [],
   "source": [
    "# %load ../src/2016-12-20-RMS-JupShow.py\n",
    "\n",
    "\n",
    "# JupShow\n",
    "# =========\n",
    "# \n",
    "# A class for managing plots and images on jupyter-notebook. \n",
    "# \n",
    "# \n",
    "\n",
    "# In[1]:\n",
    "\n",
    "\n",
    "import matplotlib.pyplot as plt\n",
    "import pylab\n",
    "import numpy as np\n",
    "from scipy.misc import imresize\n",
    "\n",
    "class JupShow:\n",
    "    #constructor\n",
    "    def __init__(self, ncols = 3,figsize =  (12,8),imwidth = []):\n",
    "        self.imgs = []\n",
    "        self.titles = []\n",
    "        self.ncols = ncols\n",
    "        self.imwidth = []   \n",
    "        self.figsize= figsize\n",
    "        return\n",
    "    #append images to list of images to be displayed\n",
    "    def imshow_add(self,img,title = \"\"):\n",
    "        self.imgs.append(img)\n",
    "        self.titles.append(title)\n",
    "        return \n",
    "    #sets figure size. Ex figsize = (12,8)\n",
    "    def set_figsize(self,figsize):\n",
    "        self.figsize = figsize\n",
    "        return\n",
    "    \n",
    "    #sets image width\n",
    "    def set_imwidth(self,imwidth):\n",
    "        self.imwidth = imwidth\n",
    "        return    \n",
    "    #converts matplotlib image object to numpy array\n",
    "    def fig2img(self,figure):\n",
    "        # draw the renderer\n",
    "        figure.canvas.draw ( )\n",
    "        # Get the RGB buffer from the figure\n",
    "        w,h = figure.canvas.get_width_height()\n",
    "        buf = np.fromstring ( figure.canvas.tostring_rgb(), dtype=np.uint8 )\n",
    "        buf.shape = ( h, w, 3 )\n",
    "        return buf\n",
    "\n",
    "    #displays image in subplot format \n",
    "    def imshow(self):\n",
    "        number_of_subplots = len(self.imgs)\n",
    "        nlines = number_of_subplots/self.ncols + 1\n",
    "        plt.close(\"all\")\n",
    "        figure1 = plt.figure(figsize = (12,8))\n",
    "        for i,v in enumerate(xrange(number_of_subplots)):\n",
    "            v = v+1\n",
    "            ax1 = pylab.subplot(nlines,self.ncols,v)\n",
    "            img = self.imgs[i]\n",
    "            #Test if its a numpy.array or matplotlib plot\n",
    "            #  if it is a plot it converts to numpy.array\n",
    "            try:\n",
    "                img.shape\n",
    "            except:\n",
    "                img = self.fig2img(img)\n",
    "            #Rescale images if necessary\n",
    "            if self.imwidth:\n",
    "                if (img.ndim==2): \n",
    "                    h,w = img.shape\n",
    "                else:\n",
    "                    h,w,_ = img.shape\n",
    "                height = int(self.imwidth*1.0*h/w)    \n",
    "                img = imresize(img,(height,self.imwidth))\n",
    "            #display images: gray or color depending on the image dimension\n",
    "            if img.ndim == 2:\n",
    "                ax1.imshow(img, cmap='Greys_r')\n",
    "            else:\n",
    "                ax1.imshow(img)\n",
    "            #removes axis and writes images titles\n",
    "            ax1.set_xticks([]) \n",
    "            ax1.set_yticks([]) \n",
    "            ax1.set_xlabel(self.titles[i])\n",
    "            ax1.set_frame_on(False)\n",
    "        # empties buffer\n",
    "        self.imgs = []\n",
    "        self.titles = []\n",
    "        plt.show(figure1)\n",
    "        return\n",
    "\n",
    "\n",
    "# In[2]:\n",
    "\n",
    "from PIL import Image\n",
    "import urllib2 as urllib\n",
    "\n",
    "get_ipython().magic(u'matplotlib inline')\n",
    "\n",
    "display = JupShow()\n",
    "\n",
    "display.set_imwidth(512)\n",
    "\n",
    "#Apple image\n",
    "fd = urllib.urlopen(\"https://staticdelivery.nexusmods.com/mods/110/images/74627-0-1459502036.jpg\")\n",
    "img = np.asarray(Image.open(fd))\n",
    "display.imshow_add(img,\"(a) apple\")\n",
    "\n",
    "#Log plot\n",
    "x = np.linspace(0.001,5,30)\n",
    "y = np.log(x)\n",
    "\n",
    "fig = plt.figure()\n",
    "plt.plot(x,y)\n",
    "plt.xlabel(\"x\")\n",
    "plt.ylabel(\"y\")\n",
    "plt.grid()\n",
    "display.imshow_add(fig,\"(b) log\")\n",
    "\n",
    "#Beach image\n",
    "fd2 =  urllib.urlopen(\"http://www.planetware.com/photos-large/CAY/caribbean-best-beaches-seven-mile-beach.jpg\")\n",
    "img2 = np.asarray(Image.open(fd2))\n",
    "display.imshow_add(img2,\"(c) beach\")\n",
    "\n",
    "# Brain image\n",
    "fd3 = urllib.urlopen(\"https://s-media-cache-ak0.pinimg.com/originals/48/af/10/48af108a43d588f2e87aad9e94e3cfa7.jpg\")\n",
    "img3 = np.asarray(Image.open(fd3))\n",
    "display.imshow_add(img3,\"(d) brain\")\n",
    "\n",
    "# Cosine plot\n",
    "fig = plt.figure()\n",
    "plt.plot(x,y)\n",
    "plt.xlabel(\"x\")\n",
    "plt.ylabel(\"y\")\n",
    "plt.grid()\n",
    "display.imshow_add(fig,\"(e) cos\")\n",
    "\n",
    "#Displaying all images\n",
    "display.imshow()\n",
    "\n",
    "\n",
    "\n",
    "\n",
    "\n",
    "\n",
    "\n",
    "\n",
    "# In[3]:\n",
    "\n",
    "#Bike image\n",
    "fd4 =  urllib.urlopen(\"https://encrypted-tbn1.gstatic.com/images?q=tbn:ANd9GcTsxq743pzVv6AaHNL704JvspkZwQ_GCSQ85bcYslhNjhdmlk_7\")\n",
    "img4 = np.asarray(Image.open(fd4))\n",
    "display.imshow_add(img4,\"(a) bike\")\n",
    "\n",
    "# Soldiers image\n",
    "fd5 = urllib.urlopen(\"https://cdn.theatlantic.com/assets/media/img/photo/2011/07/world-war-ii-conflict-spreads-around-the-globe/w01_07110168/main_900.jpg?1420520331\")\n",
    "img5 = np.asarray(Image.open(fd5))\n",
    "display.imshow_add(img5,\"(b) Soldiers\")\n",
    "\n",
    "#Displaying all images\n",
    "display.imshow()\n",
    "\n",
    "\n",
    "# In[ ]:\n",
    "\n",
    "\n",
    "\n"
   ]
  }
 ],
 "metadata": {
  "anaconda-cloud": {},
  "kernelspec": {
   "display_name": "Python [Root]",
   "language": "python",
   "name": "Python [Root]"
  },
  "language_info": {
   "codemirror_mode": {
    "name": "ipython",
    "version": 2
   },
   "file_extension": ".py",
   "mimetype": "text/x-python",
   "name": "python",
   "nbconvert_exporter": "python",
   "pygments_lexer": "ipython2",
   "version": "2.7.12"
  }
 },
 "nbformat": 4,
 "nbformat_minor": 0
}
