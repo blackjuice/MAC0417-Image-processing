{
 "cells": [
  {
   "cell_type": "markdown",
   "metadata": {},
   "source": [
    "# Aula 3\n",
    "\n",
    "\n",
    "- [Chess](../master/chess.ipynb) - Programação matricial eficiente\n",
    "- [Strides](../master/Array-strides.ipynb) - acesso aos elementos do array (cópia rasa)\n",
    "- [Toolbox ia898.src](../src/ia898src-index.ipynb) - Sucessora da toolbox ia636\n",
    "- [2.1 - Criação de Imagens Sintéticas](Atividade_2_1.ipynb)\n",
    "- [2.2 - NumPy redução de eixo](Atividade_2_2.ipynb)\n",
    "- [2.3 - Histograma e Estatística de imagem](Atividade_2_3.ipynb)\n"
   ]
  },
  {
   "cell_type": "code",
   "execution_count": null,
   "metadata": {
    "collapsed": false
   },
   "outputs": [],
   "source": []
  }
 ],
 "metadata": {
  "kernelspec": {
   "display_name": "Python 3",
   "language": "python",
   "name": "python3"
  },
  "language_info": {
   "codemirror_mode": {
    "name": "ipython",
    "version": 3
   },
   "file_extension": ".py",
   "mimetype": "text/x-python",
   "name": "python",
   "nbconvert_exporter": "python",
   "pygments_lexer": "ipython3",
   "version": "3.6.0"
  },
  "toc": {
   "colors": {
    "hover_highlight": "#DAA520",
    "running_highlight": "#FF0000",
    "selected_highlight": "#FFD700"
   },
   "moveMenuLeft": true,
   "nav_menu": {
    "height": "30px",
    "width": "252px"
   },
   "navigate_menu": true,
   "number_sections": true,
   "sideBar": true,
   "threshold": 4,
   "toc_cell": false,
   "toc_section_display": "block",
   "toc_window_display": false
  }
 },
 "nbformat": 4,
 "nbformat_minor": 2
}
