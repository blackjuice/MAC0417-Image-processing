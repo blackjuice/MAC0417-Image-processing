{
 "cells": [
  {
   "cell_type": "markdown",
   "metadata": {},
   "source": [
    "# Criação de imagens sintéticas\n",
    "\n",
    "Imagens sintéticas são bastante utilizadas nos testes de algoritmos e na geração de\n",
    "padrões de imagens.\n",
    "\n",
    "Iremos aprender a gerar os valores dos pixels de uma imagem a partir de uma equação matemática\n",
    "de forma muito eficiente, sem a necessidade de se usar explicitamente a varredura dos\n",
    "pixels através do comando `for`.\n",
    "\n",
    "A forma preferencial de criação de imagens sintéticas, quando sua equação é fornecida, é\n",
    "através do uso das funções que geram uma matriz de coordenadas. As duas funções que\n",
    "iremos utilizar neste curso são `indices` e `meshgrid`.\n",
    "\n",
    "Estude o tutorial em:\n",
    "\n",
    "- [Indices e Meshgrid](../master/tutorial_numpy_1_7.ipynb)\n",
    "\n",
    "Ele é fundamental para entender os exemplos a seguir."
   ]
  },
  {
   "cell_type": "code",
   "execution_count": 7,
   "metadata": {},
   "outputs": [],
   "source": [
    "import numpy as np\n",
    "import sys,os\n",
    "ia898path = os.path.abspath('/etc/jupyterhub/ia898_1s2017/')\n",
    "if ia898path not in sys.path:\n",
    "    sys.path.append(ia898path)\n",
    "import ia898.src as ia"
   ]
  },
  {
   "cell_type": "markdown",
   "metadata": {},
   "source": [
    "## Imagem da função \"sela\"\n",
    "\n",
    "A função \"sela\" bidimensional é uma função dada pelo produto de suas coordenadas `r` e `c`.\n",
    "Observe que, implementando desta forma, é possível fazer com que o código Python/NumPy fique\n",
    "muito próximo à equação matemática, colocada a seguir.\n",
    "\n",
    "Vamos gerar uma função sela, onde os valores para as linhas serão valores inteiros entre\n",
    "-75 e 75 e os valores para as colunas, inteiros no intervalo [-100,100]:\n",
    "\n",
    "$$    f(r,c) = r \\ c $$\n",
    "$$    \\text{para} \\ r  \\in  [-75,75] $$\n",
    "$$                  c  \\in  [-100,100]$$\n",
    "   \n",
    "   \n",
    "No exemplo a seguir é utilizado a função `arange` para gerar os vetores de coordenadas. Para melhorar\n",
    "a visualização foi utilizada a função `ia636:iaisolines iaisolines` que permite visualizar os \n",
    "pixels de mesmo valores (isolinhas) da imagem gerada com uma cor destacada."
   ]
  },
  {
   "cell_type": "code",
   "execution_count": 10,
   "metadata": {},
   "outputs": [
    {
     "data": {
      "text/html": [
       "<head><style>        table, th, td { border: 0px solid black;        text-align: center;border-collapse: collapse;}</style></head>        <body><table border=\"0\"><td>            <table><tr><td><img src='data:image/png;base64,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'/></td></tr>            <tr><td align='center'>Ponto de sela</td></tr></table></td><tr></tr></table></body>"
      ],
      "text/plain": [
       "<IPython.core.display.HTML object>"
      ]
     },
     "metadata": {},
     "output_type": "display_data"
    }
   ],
   "source": [
    "r,c = np.meshgrid(np.arange(-75,75), np.arange(-100,100), indexing='ij')\n",
    "f = r * c\n",
    "fn = ia.normalize(f)\n",
    "ia.adshow(fn, 'Ponto de sela')\n",
    "#ia.adshow(ia.iaisolines(fn,9), 'Ponto de sela com isolinhas')"
   ]
  },
  {
   "cell_type": "markdown",
   "metadata": {},
   "source": [
    "## Outras images criadas com matrizes de índices\n",
    "\n",
    "Implemente alguma das seguintes funções da toolbox `ia636:MainPage` que também foram feitas desta forma:\n",
    "\n",
    "- [ia636:iacos](http://adessowiki.fee.unicamp.br/adesso-1/wiki/ia636/iacos/view/) - Cossenóide\n",
    "- [ia636:iacircle](http://adessowiki.fee.unicamp.br/adesso-1/wiki/ia636/iacircle/view/) - Círculo\n",
    "- [ia636:iarectangle](http://adessowiki.fee.unicamp.br/adesso-1/wiki/ia636/iarectangle/view/) - Retângulo\n",
    "- [ia636:ialog](http://adessowiki.fee.unicamp.br/adesso-1/wiki/ia636/ialog/view/) - Laplaciano da gaussiana"
   ]
  },
  {
   "cell_type": "markdown",
   "metadata": {},
   "source": [
    "## Atividades\n",
    "\n",
    "- Faça a seguir um programa qualquer de geração de imagem a partir de uma equação:"
   ]
  },
  {
   "cell_type": "code",
   "execution_count": 11,
   "metadata": {},
   "outputs": [],
   "source": [
    "r,c = np.indices( (100,100))\n",
    "# implemente aqui a equação da sua função bidimensional \n",
    "\n",
    "#ia.adshow(F)"
   ]
  },
  {
   "cell_type": "markdown",
   "metadata": {},
   "source": [
    "## Opcional:\n",
    "\n",
    "Uma sugestão de exercício avançado opcional é gerar a função de Gabor, muito utilizada em filtro direcionais. A equação\n",
    "da função de Gabor pode ser vista em [Gabor filter](http://en.wikipedia.org/wiki/Gabor_filter). Implemente a função real.\n",
    "\n",
    "### Disconsidere este enunciado:\n",
    "- As duas próximas atividades, descritas no índice das atividades desta semana envolvem o desenvolvimento de programas \n",
    "que geram uma imagem rampa e uma imagem com um \"x\" desenhado. Estes programas devem ser feitos utilizando a função `indices`. "
   ]
  },
  {
   "cell_type": "markdown",
   "metadata": {},
   "source": [
    "## Criação de gaussiana n-dimensional\n",
    "\n",
    "Uma função também escrita com índices matriciais, porém muito mais complexa de entender é a `ia636:iagaussian`. Veja\n",
    "que o código é extremamente curto, porém bastante complexo e ela ainda funciona para qualquer dimensão, desde 1-D, 2-D,\n",
    "3-D, isto é, n-D. Para quem estiver interessado em entender como ela funciona, existe uma demonstração que procura \n",
    "explicar seu funcionamento em \n",
    "\n",
    "- [ia636:iagengauss](http://adessowiki.fee.unicamp.br/adesso-1/wiki/ia636/iagengauss/view/)\n",
    "- [ia636:iagaussian](http://adessowiki.fee.unicamp.br/adesso-1/wiki/ia636/iagaussian/view/)"
   ]
  },
  {
   "cell_type": "markdown",
   "metadata": {},
   "source": [
    "## Questões de autoavaliação (ainda não está pronto)\n",
    "\n",
    "Faça o teste múltipla escolha a seguir para verificar os conhecimentos adquiridos com esta atividade.\n",
    "O teste é para autoestudo e pode ser repetido várias vezes:\n",
    "\n",
    "- Teste de autoestudo - Imagens sintéticas usando indices e meshgrid`\n"
   ]
  }
 ],
 "metadata": {
  "kernelspec": {
   "display_name": "Python 3",
   "language": "python",
   "name": "python3"
  },
  "language_info": {
   "codemirror_mode": {
    "name": "ipython",
    "version": 3
   },
   "file_extension": ".py",
   "mimetype": "text/x-python",
   "name": "python",
   "nbconvert_exporter": "python",
   "pygments_lexer": "ipython3",
   "version": "3.4.3"
  },
  "toc": {
   "colors": {
    "hover_highlight": "#DAA520",
    "running_highlight": "#FF0000",
    "selected_highlight": "#FFD700"
   },
   "moveMenuLeft": true,
   "nav_menu": {
    "height": "84px",
    "width": "252px"
   },
   "navigate_menu": true,
   "number_sections": true,
   "sideBar": true,
   "threshold": 4,
   "toc_cell": false,
   "toc_section_display": "block",
   "toc_window_display": false
  }
 },
 "nbformat": 4,
 "nbformat_minor": 2
}
