{
 "cells": [
  {
   "cell_type": "markdown",
   "metadata": {},
   "source": [
    "# Aula 4\n",
    "\n",
    "\n",
    "- Programando no Jupyter\n",
    "- [3.1 - Transformação Intensidade, Realce e Equalização de Histograma](Atividade_3_1.ipynb)\n",
    "- [3.2 - Tabela de cores](Atividade_3_2.ipynb)"
   ]
  },
  {
   "cell_type": "markdown",
   "metadata": {},
   "source": [
    "## Exercícios práticos para a próxima aula\n",
    "\n",
    "1. Converter a função python rgb_to_hsv para numpy\n",
    "2. Converter a função python hsv_to_rgb para numpy\n",
    "3. Fazer a função de normalização média zero e variância um"
   ]
  },
  {
   "cell_type": "code",
   "execution_count": null,
   "metadata": {
    "collapsed": true
   },
   "outputs": [],
   "source": [
    "def rgb_to_hsv(r, g, b):\n",
    "    maxc = max(r, g, b)\n",
    "    minc = min(r, g, b)\n",
    "    v = maxc\n",
    "    if minc == maxc:\n",
    "        return 0.0, 0.0, v\n",
    "    s = (maxc-minc) / maxc\n",
    "    rc = (maxc-r) / (maxc-minc)\n",
    "    gc = (maxc-g) / (maxc-minc)\n",
    "    bc = (maxc-b) / (maxc-minc)\n",
    "    if r == maxc:\n",
    "        h = bc-gc\n",
    "    elif g == maxc:\n",
    "        h = 2.0+rc-bc\n",
    "    else:\n",
    "        h = 4.0+gc-rc\n",
    "    h = (h/6.0) % 1.0\n",
    "    return h, s, v"
   ]
  },
  {
   "cell_type": "code",
   "execution_count": null,
   "metadata": {
    "collapsed": true
   },
   "outputs": [],
   "source": [
    "def hsv_to_rgb(h, s, v):\n",
    "    if s == 0.0:\n",
    "        return v, v, v\n",
    "    i = int(h*6.0) # XXX assume int() truncates!\n",
    "    f = (h*6.0) - i\n",
    "    p = v*(1.0 - s)\n",
    "    q = v*(1.0 - s*f)\n",
    "    t = v*(1.0 - s*(1.0-f))\n",
    "    i = i%6\n",
    "    if i == 0:\n",
    "        return v, t, p\n",
    "    if i == 1:\n",
    "        return q, v, p\n",
    "    if i == 2:\n",
    "        return p, v, t\n",
    "    if i == 3:\n",
    "        return p, q, v\n",
    "    if i == 4:\n",
    "        return t, p, v\n",
    "    if i == 5:\n",
    "        return v, p, q"
   ]
  },
  {
   "cell_type": "markdown",
   "metadata": {},
   "source": [
    "# Referências\n",
    "\n",
    "- [Wikipedia:HSV](https://pt.wikipedia.org/wiki/HSV) - conversões RGB->HSV e HSV->RGB"
   ]
  }
 ],
 "metadata": {
  "kernelspec": {
   "display_name": "Python 3",
   "language": "python",
   "name": "python3"
  },
  "language_info": {
   "codemirror_mode": {
    "name": "ipython",
    "version": 3
   },
   "file_extension": ".py",
   "mimetype": "text/x-python",
   "name": "python",
   "nbconvert_exporter": "python",
   "pygments_lexer": "ipython3",
   "version": "3.4.3"
  },
  "toc": {
   "colors": {
    "hover_highlight": "#DAA520",
    "running_highlight": "#FF0000",
    "selected_highlight": "#FFD700"
   },
   "moveMenuLeft": true,
   "nav_menu": {
    "height": "30px",
    "width": "252px"
   },
   "navigate_menu": true,
   "number_sections": true,
   "sideBar": true,
   "threshold": 4,
   "toc_cell": false,
   "toc_section_display": "block",
   "toc_window_display": false
  }
 },
 "nbformat": 4,
 "nbformat_minor": 2
}
