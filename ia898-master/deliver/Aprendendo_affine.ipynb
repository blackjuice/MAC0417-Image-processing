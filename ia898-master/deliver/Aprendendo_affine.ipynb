{
 "cells": [
  {
   "cell_type": "markdown",
   "metadata": {
    "deletable": true,
    "editable": true,
    "toc": "true"
   },
   "source": [
    "# Table of Contents\n",
    " <p><div class=\"lev1 toc-item\"><a href=\"#Transformação-geométrica\" data-toc-modified-id=\"Transformação-geométrica-1\"><span class=\"toc-item-num\">1&nbsp;&nbsp;</span>Transformação geométrica</a></div><div class=\"lev2 toc-item\"><a href=\"#Estudo-preparatório\" data-toc-modified-id=\"Estudo-preparatório-11\"><span class=\"toc-item-num\">1.1&nbsp;&nbsp;</span>Estudo preparatório</a></div><div class=\"lev2 toc-item\"><a href=\"#Preparação-para-o-problema-a-ser-modificado\" data-toc-modified-id=\"Preparação-para-o-problema-a-ser-modificado-12\"><span class=\"toc-item-num\">1.2&nbsp;&nbsp;</span>Preparação para o problema a ser modificado</a></div><div class=\"lev2 toc-item\"><a href=\"#Entendimento-da-iaffine-da-toolbox-ia898---execução-passo-a-passo\" data-toc-modified-id=\"Entendimento-da-iaffine-da-toolbox-ia898---execução-passo-a-passo-13\"><span class=\"toc-item-num\">1.3&nbsp;&nbsp;</span>Entendimento da iaffine da toolbox ia898 - execução passo a passo</a></div><div class=\"lev3 toc-item\"><a href=\"#Parâmetros-de-entrada:\" data-toc-modified-id=\"Parâmetros-de-entrada:-131\"><span class=\"toc-item-num\">1.3.1&nbsp;&nbsp;</span>Parâmetros de entrada:</a></div><div class=\"lev3 toc-item\"><a href=\"#Domínio-da-imagem-de-saída\" data-toc-modified-id=\"Domínio-da-imagem-de-saída-132\"><span class=\"toc-item-num\">1.3.2&nbsp;&nbsp;</span>Domínio da imagem de saída</a></div><div class=\"lev3 toc-item\"><a href=\"#Cálculo-dos-índices-da-imagem-de-saída\" data-toc-modified-id=\"Cálculo-dos-índices-da-imagem-de-saída-133\"><span class=\"toc-item-num\">1.3.3&nbsp;&nbsp;</span>Cálculo dos índices da imagem de saída</a></div><div class=\"lev3 toc-item\"><a href=\"#Empacotamento-das-coordenadas-homogêneas\" data-toc-modified-id=\"Empacotamento-das-coordenadas-homogêneas-134\"><span class=\"toc-item-num\">1.3.4&nbsp;&nbsp;</span>Empacotamento das coordenadas homogêneas</a></div><div class=\"lev3 toc-item\"><a href=\"#Transformação-da-coordenadas\" data-toc-modified-id=\"Transformação-da-coordenadas-135\"><span class=\"toc-item-num\">1.3.5&nbsp;&nbsp;</span>Transformação da coordenadas</a></div><div class=\"lev3 toc-item\"><a href=\"#Interpolação-do-vizinho-mais-próximo\" data-toc-modified-id=\"Interpolação-do-vizinho-mais-próximo-136\"><span class=\"toc-item-num\">1.3.6&nbsp;&nbsp;</span>Interpolação do vizinho mais próximo</a></div><div class=\"lev3 toc-item\"><a href=\"#Ajuste-das-coordenadas-que-caíram-fora-do-domínio-de-f\" data-toc-modified-id=\"Ajuste-das-coordenadas-que-caíram-fora-do-domínio-de-f-137\"><span class=\"toc-item-num\">1.3.7&nbsp;&nbsp;</span>Ajuste das coordenadas que caíram fora do domínio de <strong>f</strong></a></div><div class=\"lev3 toc-item\"><a href=\"#Cópia-dos-valores-dos-pixels\" data-toc-modified-id=\"Cópia-dos-valores-dos-pixels-138\"><span class=\"toc-item-num\">1.3.8&nbsp;&nbsp;</span>Cópia dos valores dos pixels</a></div><div class=\"lev2 toc-item\"><a href=\"#Teste-de-autoavaliação\" data-toc-modified-id=\"Teste-de-autoavaliação-14\"><span class=\"toc-item-num\">1.4&nbsp;&nbsp;</span>Teste de autoavaliação</a></div>"
   ]
  },
  {
   "cell_type": "markdown",
   "metadata": {
    "deletable": true,
    "editable": true
   },
   "source": [
    "# Transformação geométrica\n",
    "\n",
    "Enquanto as Transformações de intensidade alteram apenas o valor do pixel, sem depender\n",
    "de suas coordenadas, as transformações geométricas fazem um mapeamento de coordenadas, sem\n",
    "modificar o valor de cada pixel. \n",
    "\n",
    "O exercício principal nesta atividade é desenvolvermos o programa que modificará a\n",
    "implementação da transformação afim da toolbox `ia898:affine`. Para isto, precisamos\n",
    "primeiro rever a teoria de transformação geométrica 2D utilizando coordenadas homogêneas e\n",
    "matriz de transformação."
   ]
  },
  {
   "cell_type": "markdown",
   "metadata": {
    "deletable": true,
    "editable": true
   },
   "source": [
    "## Estudo preparatório\n",
    "\n",
    "Estude com cuidado o texto preparado para esta experiência:\n",
    "\n",
    "* [Introdução transformação geométrica](../master/tutorial_trans_geom_intro_2.ipynb) \n",
    "\n",
    "Veja também este outro texto que exercita a transformação `ia636:iaffine`:\n",
    "\n",
    "* `master:tutorial_trans_geom_2 Transformação geométrica com iaffine`"
   ]
  },
  {
   "cell_type": "markdown",
   "metadata": {
    "deletable": true,
    "editable": true
   },
   "source": [
    "## Preparação para o problema a ser modificado\n",
    "\n",
    "Leia agora o problema que deverá ser entregue: `activity_mariecp_3_gg Modificar iaffine`.\n",
    "A modificação solicitada diz respeito aos pixels na imagem transformada que não\n",
    "têm correspondência com a imagem de entrada. Na implementação atual da iaffine, estes valores\n",
    "são buscados na imagem original, com o uso da função \"clip\" do NumPy. Altere este comportamento \n",
    "de modo que estes valores fiquem zerados.\n",
    "\n",
    "Apesar de parecer fácil, a solução exige um perfeito entendimento da\n",
    "implementação da `ia636:iaffine`. Utilizando o NumPy, busque uma solução que seja simples e eficiente.\n",
    "\n",
    "A seguir será feita uma demonstração do funcionamento `ia636:iaffine` com uma pequena\n",
    "imagem numérica exemplificando seu passo a passo. A ideia é que você utilize este página como\n",
    "rascunho da sua solução. Depois de ver o passo a passo, edite-o para obter o resultado\n",
    "desejado. Uma vez conseguido, coloque sua função modificada no local apropriado para submissão\n",
    "no sistema automático de entrega de programas do Adessowiki."
   ]
  },
  {
   "cell_type": "markdown",
   "metadata": {
    "deletable": true,
    "editable": true
   },
   "source": [
    "## Entendimento da iaffine da toolbox ia898 - execução passo a passo\n",
    "\n",
    "\n",
    "### Parâmetros de entrada:\n",
    "\n",
    "Criamos a imagem de entrada e a matriz de transformação geométrica T:"
   ]
  },
  {
   "cell_type": "code",
   "execution_count": 1,
   "metadata": {
    "ExecuteTime": {
     "end_time": "2017-04-06T09:30:08.036449",
     "start_time": "2017-04-06T09:30:07.913467"
    },
    "collapsed": true,
    "deletable": true,
    "editable": true
   },
   "outputs": [],
   "source": [
    "import numpy as np\n",
    "\n",
    "t = np.array([2.1, 0.8])\n",
    "\n",
    "T = np.array([[1,0,t[1]], \n",
    "              [0,1,t[0]], \n",
    "              [0,0,1]])\n",
    "\n",
    "f = np.array([[ 1, 2, 3, 4, 5],\n",
    "              [ 6, 7, 8, 9,10],\n",
    "              [11,12,13,14,15]])"
   ]
  },
  {
   "cell_type": "markdown",
   "metadata": {
    "deletable": true,
    "editable": true
   },
   "source": [
    "### Domínio da imagem de saída\n",
    "\n",
    "O domínio da imagem de saída é feito igual ao domínio da imagem f de entrada.\n",
    "**domain** diz respeito ao shape da imagem de saída. H e W dizem respeito às\n",
    "dimensões da imagem de entrada; neste caso, são iguais."
   ]
  },
  {
   "cell_type": "code",
   "execution_count": 2,
   "metadata": {
    "ExecuteTime": {
     "end_time": "2017-04-06T09:30:08.048438",
     "start_time": "2017-04-06T09:30:08.039864"
    },
    "collapsed": false,
    "deletable": true,
    "editable": true
   },
   "outputs": [
    {
     "name": "stdout",
     "output_type": "stream",
     "text": [
      "domain: (3, 5)\n"
     ]
    }
   ],
   "source": [
    "domain = f.shape\n",
    "n = f.size\n",
    "H,W = f.shape\n",
    "print('domain:', domain)"
   ]
  },
  {
   "cell_type": "markdown",
   "metadata": {
    "deletable": true,
    "editable": true
   },
   "source": [
    "### Cálculo dos índices da imagem de saída\n",
    "\n",
    "Como fazemos mapeamento indireto, a varredura será nos pixels da\n",
    "imagem de saída. Assim, utilizamos **domain** para gerar as coordenadas de\n",
    "todos os pixels de **g**. Note aqui que usamos r1,c1 no lugar de r',c' das\n",
    "equações matemáticas."
   ]
  },
  {
   "cell_type": "code",
   "execution_count": 3,
   "metadata": {
    "ExecuteTime": {
     "end_time": "2017-04-06T09:30:08.061564",
     "start_time": "2017-04-06T09:30:08.051382"
    },
    "collapsed": false,
    "deletable": true,
    "editable": true
   },
   "outputs": [
    {
     "name": "stdout",
     "output_type": "stream",
     "text": [
      "r1=\n",
      " [[0 0 0 0 0]\n",
      " [1 1 1 1 1]\n",
      " [2 2 2 2 2]]\n",
      "c1=\n",
      " [[0 1 2 3 4]\n",
      " [0 1 2 3 4]\n",
      " [0 1 2 3 4]]\n"
     ]
    }
   ],
   "source": [
    "r1,c1 = np.indices(domain)\n",
    "print('r1=\\n', r1)\n",
    "print('c1=\\n', c1)"
   ]
  },
  {
   "cell_type": "markdown",
   "metadata": {
    "deletable": true,
    "editable": true
   },
   "source": [
    "### Empacotamento das coordenadas homogêneas\n",
    "\n",
    "As coordenadas r1 e c1 são vetorizadas e colocadas em 3 linhas: r1, c1 e de 1's, para poder multiplicar por T.\n",
    "A vetorização dos arrays é feita pelo **ravel()** do NumPy:"
   ]
  },
  {
   "cell_type": "code",
   "execution_count": 4,
   "metadata": {
    "ExecuteTime": {
     "end_time": "2017-04-06T09:30:08.077528",
     "start_time": "2017-04-06T09:30:08.065182"
    },
    "collapsed": false,
    "deletable": true,
    "editable": true
   },
   "outputs": [
    {
     "name": "stdout",
     "output_type": "stream",
     "text": [
      "rc1=\n",
      " [[ 0.  0.  0.  0.  0.  1.  1.  1.  1.  1.  2.  2.  2.  2.  2.]\n",
      " [ 0.  1.  2.  3.  4.  0.  1.  2.  3.  4.  0.  1.  2.  3.  4.]\n",
      " [ 1.  1.  1.  1.  1.  1.  1.  1.  1.  1.  1.  1.  1.  1.  1.]]\n"
     ]
    }
   ],
   "source": [
    "rc1 = np.array([ r1.ravel(), \n",
    "                 c1.ravel(), \n",
    "                 np.ones(n)])\n",
    "print('rc1=\\n', rc1)"
   ]
  },
  {
   "cell_type": "markdown",
   "metadata": {
    "deletable": true,
    "editable": true
   },
   "source": [
    "### Transformação da coordenadas\n",
    "\n",
    "Aqui é feito o processamento para o cálculo das novas coordenadas correspondentes.\n",
    "As coordenadas de **g** são multiplicadas pela inversa da matriz T (mapeamento inverso).\n",
    "Observe que os valores estão em ponto flutuante:"
   ]
  },
  {
   "cell_type": "code",
   "execution_count": 5,
   "metadata": {
    "ExecuteTime": {
     "end_time": "2017-04-06T09:30:08.100948",
     "start_time": "2017-04-06T09:30:08.080654"
    },
    "collapsed": false,
    "deletable": true,
    "editable": true
   },
   "outputs": [
    {
     "name": "stdout",
     "output_type": "stream",
     "text": [
      "rc_float=\n",
      " [[-0.8 -0.8 -0.8 -0.8 -0.8  0.2  0.2  0.2  0.2  0.2  1.2  1.2  1.2  1.2\n",
      "   1.2]\n",
      " [-2.1 -1.1 -0.1  0.9  1.9 -2.1 -1.1 -0.1  0.9  1.9 -2.1 -1.1 -0.1  0.9\n",
      "   1.9]\n",
      " [ 1.   1.   1.   1.   1.   1.   1.   1.   1.   1.   1.   1.   1.   1.   1. ]]\n"
     ]
    }
   ],
   "source": [
    "rc_float = np.linalg.inv(T).dot(rc1)\n",
    "print('rc_float=\\n',rc_float)"
   ]
  },
  {
   "cell_type": "markdown",
   "metadata": {
    "deletable": true,
    "editable": true
   },
   "source": [
    "### Interpolação do vizinho mais próximo\n",
    "\n",
    "A coordenada ponto flutuante de **f** é arredondada pelo vizinho mais próximo. O\n",
    "arredondamento é feito pela operação **rint** do NumPy:\n",
    "            "
   ]
  },
  {
   "cell_type": "code",
   "execution_count": 6,
   "metadata": {
    "ExecuteTime": {
     "end_time": "2017-04-06T09:30:08.117164",
     "start_time": "2017-04-06T09:30:08.104285"
    },
    "collapsed": false,
    "deletable": true,
    "editable": true
   },
   "outputs": [
    {
     "name": "stdout",
     "output_type": "stream",
     "text": [
      "rr=\n",
      " [-1 -1 -1 -1 -1  0  0  0  0  0  1  1  1  1  1]\n",
      "cc=\n",
      " [-2 -1  0  1  2 -2 -1  0  1  2 -2 -1  0  1  2]\n"
     ]
    }
   ],
   "source": [
    "rr = np.rint(rc_float[0]).astype(int)\n",
    "cc = np.rint(rc_float[1]).astype(int)\n",
    "print('rr=\\n', rr)\n",
    "print('cc=\\n', cc)"
   ]
  },
  {
   "cell_type": "markdown",
   "metadata": {
    "deletable": true,
    "editable": true
   },
   "source": [
    "### Ajuste das coordenadas que caíram fora do domínio de **f**\n",
    "\n",
    "Aqui é onde é preenchido os valores em que (rr,cc) caíram foram do domínio de **f**.\n",
    "Neste caso, é feito um \"clipping\" forçando estes valores cairem dentro de [0,H-1] e\n",
    "[0,W-1] que formam o domínio de f:"
   ]
  },
  {
   "cell_type": "code",
   "execution_count": 7,
   "metadata": {
    "ExecuteTime": {
     "end_time": "2017-04-06T09:30:08.131900",
     "start_time": "2017-04-06T09:30:08.120065"
    },
    "collapsed": false,
    "deletable": true,
    "editable": true
   },
   "outputs": [
    {
     "name": "stdout",
     "output_type": "stream",
     "text": [
      "r=\n",
      " [[0 0 0 0 0]\n",
      " [0 0 0 0 0]\n",
      " [1 1 1 1 1]]\n",
      "c=\n",
      " [[0 0 0 1 2]\n",
      " [0 0 0 1 2]\n",
      " [0 0 0 1 2]]\n"
     ]
    }
   ],
   "source": [
    "r = np.clip(rr,0,H-1).reshape(domain)\n",
    "c = np.clip(cc,0,W-1).reshape(domain)\n",
    "print('r=\\n', r)\n",
    "print('c=\\n', c)"
   ]
  },
  {
   "cell_type": "markdown",
   "metadata": {
    "deletable": true,
    "editable": true
   },
   "source": [
    "### Cópia dos valores dos pixels\n",
    "\n",
    "Uma vez que as coordenadas estão todas calculadas, é feita agora a cópia dos pixels\n",
    "da imagem **f** nas coordenadas calculadas para os pixels da imagem **g**. Veja que\n",
    "a indexação de **f** está sendo feita por dois arrays **r** e **c** que possuem as\n",
    "mesmas dimensões da imagem de entrada **f**. Esta é uma técnica do Numpy de\n",
    "indexação por arrays que é bastante poderosa e eficiente."
   ]
  },
  {
   "cell_type": "code",
   "execution_count": 9,
   "metadata": {
    "ExecuteTime": {
     "end_time": "2017-04-06T09:30:22.778173",
     "start_time": "2017-04-06T09:30:22.768919"
    },
    "collapsed": false,
    "deletable": true,
    "editable": true
   },
   "outputs": [
    {
     "name": "stdout",
     "output_type": "stream",
     "text": [
      "g=\n",
      " [[1 1 1 2 3]\n",
      " [1 1 1 2 3]\n",
      " [6 6 6 7 8]]\n"
     ]
    }
   ],
   "source": [
    "g = f[r,c]\n",
    "print('g=\\n', g)"
   ]
  },
  {
   "cell_type": "markdown",
   "metadata": {
    "deletable": true,
    "editable": true
   },
   "source": [
    "## Teste de autoavaliação\n",
    "\n",
    "Faça o teste múltipla escolha a seguir para verificar os conhecimentos adquiridos com a atividade de transformação\n",
    "geométrica. O teste é para autoestudo e pode ser repetido várias vezes:\n",
    "\n",
    "- Ainda não está pronto"
   ]
  },
  {
   "cell_type": "code",
   "execution_count": null,
   "metadata": {
    "collapsed": true,
    "deletable": true,
    "editable": true
   },
   "outputs": [],
   "source": []
  }
 ],
 "metadata": {
  "kernelspec": {
   "display_name": "Python 3",
   "language": "python",
   "name": "python3"
  },
  "language_info": {
   "codemirror_mode": {
    "name": "ipython",
    "version": 3
   },
   "file_extension": ".py",
   "mimetype": "text/x-python",
   "name": "python",
   "nbconvert_exporter": "python",
   "pygments_lexer": "ipython3",
   "version": "3.6.0"
  },
  "toc": {
   "colors": {
    "hover_highlight": "#DAA520",
    "running_highlight": "#FF0000",
    "selected_highlight": "#FFD700"
   },
   "moveMenuLeft": true,
   "nav_menu": {
    "height": "247px",
    "width": "252px"
   },
   "navigate_menu": true,
   "number_sections": true,
   "sideBar": true,
   "threshold": 4,
   "toc_cell": true,
   "toc_section_display": "block",
   "toc_window_display": false
  }
 },
 "nbformat": 4,
 "nbformat_minor": 2
}
