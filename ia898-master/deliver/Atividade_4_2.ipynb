{
 "cells": [
  {
   "cell_type": "markdown",
   "metadata": {},
   "source": [
    "# Filtros lineares invariantes à translação - implementação\n",
    "\n",
    "Uma teoria muito importante e também muito estudada é a de filtros ou transformações lineares invariantes à translação.\n",
    "Quando um filtro tiver as seguintes três propriedades:\n",
    "\n",
    "1. A filtragem da soma de duas imagens é igual à soma das imagens filtradas\n",
    "\n",
    "2. A filtragem de uma imagem multiplicada por uma constante é igual à multiplicação pela constante da imagem transformada\n",
    "\n",
    "3. A filtragem de uma imagem transladada é igual à translação da imagem filtrada\n",
    "\n",
    "diz-se, então, que o filtro é linear e invariante à translação. Ainda mais importante é o seguinte:\n",
    "\n",
    "Qualquer filtro linear e invariante à translação pode ser implementado por uma **convolução**. \n",
    "\n",
    "Esta afirmação facilita em muito a eficiência de um programador de processamento de imagens, \n",
    "pois a implementação de **todos** os filtros lineares invariantes à translação é\n",
    "feita com apenas um função, bastando variar o seu parâmetro.\n",
    "\n",
    "Apesar do nome ser estranho para quem nunca ouviu falar em convolução, a sua versão mais simples já foi certamente vista por todos:\n",
    "um filtro de média móvel é uma convolução."
   ]
  },
  {
   "cell_type": "markdown",
   "metadata": {},
   "source": [
    "## Introdução à forma como a convolução está implementada utilizando NumPy\n",
    "\n",
    "Assim, o objetivo desta atividade é olharmos com detalhes como está implementada a função\n",
    "\n",
    "- [ia898:conv](../src/conv.ipynb), \n",
    "da convolução linear discreta.\n",
    "\n",
    "Existem duas dificuldades maiores relativas à implementação da convolução discreta:\n",
    "\n",
    "1. É uma operação de vizinhança, o que torna o processamento em NumPy potencialmente mais difícil. Uma das dicas para se implementar\n",
    "   a convolução evitando ou diminuindo o número de laços explícitos é operar na imagem transladada e não na translação da janela.\n",
    "   \n",
    "2. Como toda operação de vizinhança, é preciso definir qual é a vizinhança de um pixel que esteja nos limites da imagem, normalmente\n",
    "   chamado borda da imagem. Existem várias soluções possíveis para este tratamento. A que usaremos aqui, no caso da convolução linear é\n",
    "   supor que a imagem é infinita e os pixels que estão fora do seu *shape* tem seus valores zerados.\n",
    "\n",
    "Na realidade, a convolução é uma operação entre duas imagens quaisquer, **f** e **h**, onde **f** é a imagem propriamente dita e **h** é \n",
    "o filtro linear. **h** tem muitas denominações: núcleo ou máscara da convolução, função de espalhamento, entre outras. \n",
    "Normalmente a imagem **f** é grande e núcleo **h** é pequeno. Por exemplo, se quero um filtro de média móvel onde a vizinhança ou janela a  \n",
    "aplicar-se a média consiste no pixel em questão e os seus dois pixels vizinhos à esquerda, a imagem **h** será um array de 3 elementos: [1/3, 1/3, 1/3].\n",
    "No Python/NumPy podemos calcular esta média móvel de duas formas principais:\n",
    "\n",
    "- Varredura em todos os pixels e para cada pixel seleciona-se os pixels vizinhos por fatiamento para o cálculo da média.\n",
    "\n",
    "- Soma da imagem **f** com suas translações de 1 e 2 pixels para a direita, dividindo o resultado por 3.\n",
    "\n",
    "Esta mudança de varredura da imagem para varredura nos elementos de **h** é possível porque a convolução possui uma propriedade importante: ela é \n",
    "comutativa. Isto é, fazer a convolução de **f** por **h** é igual a fazer a convolução de **h** por **f**. Cuidado, pois nem \n",
    "toda implementação de convolução respeita esta propriedade. As implementações da convolução feitas na toolbox ia898 são todas comutativas. "
   ]
  },
  {
   "cell_type": "markdown",
   "metadata": {},
   "source": [
    "## Exemplo de média móvel de 3 pixels vizinhos\n",
    "\n",
    "Veja o exemplo a seguir desta implementação da média dos 3 pixels mencionada acima:"
   ]
  },
  {
   "cell_type": "code",
   "execution_count": 2,
   "metadata": {
    "ExecuteTime": {
     "end_time": "2017-04-05T17:38:05.913917",
     "start_time": "2017-04-05T17:38:05.790192"
    },
    "collapsed": false
   },
   "outputs": [
    {
     "name": "stdout",
     "output_type": "stream",
     "text": [
      "f:\n",
      " [[ 0  1  2  3  4]\n",
      " [ 5  6  7  8  9]\n",
      " [10 11 12 13 14]\n",
      " [15 16 17 18 19]\n",
      " [20 21 22 23 24]]\n",
      "h: [ 0.33  0.33  0.33]\n"
     ]
    }
   ],
   "source": [
    "import numpy as np\n",
    "\n",
    "f = np.arange(25).reshape(5,5)\n",
    "h = np.array([1./3, 1./3, 1./3])\n",
    "print('f:\\n', f)\n",
    "print('h:', h.round(2))"
   ]
  },
  {
   "cell_type": "code",
   "execution_count": 3,
   "metadata": {
    "ExecuteTime": {
     "end_time": "2017-04-05T17:38:30.624454",
     "start_time": "2017-04-05T17:38:30.600624"
    },
    "collapsed": false
   },
   "outputs": [
    {
     "name": "stdout",
     "output_type": "stream",
     "text": [
      "g:\n",
      " [[ 0.    0.33  0.67  1.    1.33  0.    0.  ]\n",
      " [ 1.67  2.    2.33  2.67  3.    0.    0.  ]\n",
      " [ 3.33  3.67  4.    4.33  4.67  0.    0.  ]\n",
      " [ 5.    5.33  5.67  6.    6.33  0.    0.  ]\n",
      " [ 6.67  7.    7.33  7.67  8.    0.    0.  ]]\n",
      "g:\n",
      " [[  0.     0.33   1.     1.67   2.33   1.33   0.  ]\n",
      " [  1.67   3.67   4.33   5.     5.67   3.     0.  ]\n",
      " [  3.33   7.     7.67   8.33   9.     4.67   0.  ]\n",
      " [  5.    10.33  11.    11.67  12.33   6.33   0.  ]\n",
      " [  6.67  13.67  14.33  15.    15.67   8.     0.  ]]\n",
      "g:\n",
      " [[  0.     0.33   1.     2.     3.     2.33   1.33]\n",
      " [  1.67   3.67   6.     7.     8.     5.67   3.  ]\n",
      " [  3.33   7.    11.    12.    13.     9.     4.67]\n",
      " [  5.    10.33  16.    17.    18.    12.33   6.33]\n",
      " [  6.67  13.67  21.    22.    23.    15.67   8.  ]]\n"
     ]
    }
   ],
   "source": [
    "H,W = f.shape\n",
    "g = np.zeros((H,W+2))\n",
    "g[:,:-2] = f * h[0]\n",
    "print('g:\\n', g.round(2))\n",
    "g[:,1:-1] += f * h[1]\n",
    "print('g:\\n', g.round(2))\n",
    "g[:,2:] += f * h[2]\n",
    "print('g:\\n', g.round(2))"
   ]
  },
  {
   "cell_type": "markdown",
   "metadata": {},
   "source": [
    "## Tutorial explicando passo-a-passo\n",
    "\n",
    "Veja o \n",
    "\n",
    "- [Tutorial explicando funcionamento da convolução](../master/tutorial_conv_3.ipynb)\n",
    "por média ponderada de translações da imagem. Esta é\n",
    "a forma como a função `ia898:conv` está implementada na toolbox ia898.\n"
   ]
  },
  {
   "cell_type": "markdown",
   "metadata": {},
   "source": [
    "## Tutorial das propriedades e uso da convolução\n",
    "\n",
    "Adicionalmente, a convolução possui várias propriedades úteis tanto para o seu melhor entendimento como para uma programação e uso mais eficientes.\n",
    "Veja a ilustração de algumas propriedades da convolução no \n",
    "\n",
    "- [Tutorial de propriedade da convolução](../master/tutorial_convprop_3.ipynb)."
   ]
  },
  {
   "cell_type": "code",
   "execution_count": null,
   "metadata": {
    "collapsed": true
   },
   "outputs": [],
   "source": []
  }
 ],
 "metadata": {
  "kernelspec": {
   "display_name": "Python 3",
   "language": "python",
   "name": "python3"
  },
  "language_info": {
   "codemirror_mode": {
    "name": "ipython",
    "version": 3
   },
   "file_extension": ".py",
   "mimetype": "text/x-python",
   "name": "python",
   "nbconvert_exporter": "python",
   "pygments_lexer": "ipython3",
   "version": "3.6.0"
  },
  "toc": {
   "colors": {
    "hover_highlight": "#DAA520",
    "running_highlight": "#FF0000",
    "selected_highlight": "#FFD700"
   },
   "moveMenuLeft": true,
   "nav_menu": {
    "height": "117px",
    "width": "252px"
   },
   "navigate_menu": true,
   "number_sections": true,
   "sideBar": true,
   "threshold": 4,
   "toc_cell": false,
   "toc_section_display": "block",
   "toc_window_display": false
  }
 },
 "nbformat": 4,
 "nbformat_minor": 2
}
