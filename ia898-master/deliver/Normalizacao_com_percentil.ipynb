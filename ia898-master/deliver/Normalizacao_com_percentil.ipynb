{
 "cells": [
  {
   "cell_type": "markdown",
   "metadata": {},
   "source": [
    "# Normalização com percentil\n",
    "\n",
    "## Definição da função a ser feita e testada\n",
    "\n",
    "Escrever um programa que faça a normalização dos pixels da imagem ``f`` para a faixa ``[0, 255]``, porém com um\n",
    "parâmetro de percentil indicando qual valor mínimo e máximo de ``f`` que será normalizado dentro da faixa. O percentil\n",
    "é um valor de percentagem variando de 0 a 100. Um percentil de valor ``p`` é o nível de cinza ``v`` em que existem ``p`` porcento\n",
    "de pixels de valor menor que ``v``.\n",
    "\n",
    "A função portanto deve ter o seguinte comportamento, dado imagem ``f`` e percentil ``p``:\n",
    "\n",
    "- pixels com nível de cinza abaixo do valor de pixel dado pelo percentil ``p`` são atribuídos o valor 0;\n",
    "- pixels com nível de cinza acima do valor de pixel dado pelo percentil ``100 - p`` são atribuídos valor 255;\n",
    "- demais pixels são normalizados linearmente entre os valores 0 e 255.\n",
    "\n",
    "A função de normalização sem percentil está implementada em \n",
    "\n",
    "- [ia898:normalize](../src/normalize.ipynb)\n",
    "\n",
    "A proposta aqui é fazer outra função de\n",
    "normalização com a opção do parâmetro adicional ``p`` percentil. A vantagem desta função é que se consegue melhorar o \n",
    "contraste da imagem passando um valor de ``p``, o que não é possível de se fazer com a função ``normalize``.\n",
    "   "
   ]
  },
  {
   "cell_type": "markdown",
   "metadata": {},
   "source": [
    "## Referências:\n",
    "\n",
    "- [Percentil](http://pt.wikipedia.org/wiki/Percentil Wikipedia)\n",
    "- [NumPy:percentile](http://docs.scipy.org/doc/numpy-dev/reference/generated/numpy.percentile.html) \n",
    "- [ia898:percentile] Cálculo do percentil a partir da imagem (**ainda não está feita**)\n",
    "- [ia636:h2percentile](../src/h2percentile.ipynb) Cálculo do percentil a partir do histograma da imagem"
   ]
  },
  {
   "cell_type": "markdown",
   "metadata": {},
   "source": [
    "## Implementação das funções\n",
    "\n",
    "Implemente aqui as suas funções:"
   ]
  },
  {
   "cell_type": "code",
   "execution_count": 1,
   "metadata": {
    "ExecuteTime": {
     "end_time": "2017-03-30T00:05:26.814952",
     "start_time": "2017-03-30T00:05:26.810840"
    },
    "collapsed": true
   },
   "outputs": [],
   "source": [
    "def nperc_clip(f, p):\n",
    "    # coloque a sua solução editando esta parte\n",
    "    import numpy as np\n",
    "    return f"
   ]
  },
  {
   "cell_type": "markdown",
   "metadata": {},
   "source": [
    "### Testando as funções"
   ]
  },
  {
   "cell_type": "markdown",
   "metadata": {},
   "source": [
    "### Caso numérico"
   ]
  },
  {
   "cell_type": "markdown",
   "metadata": {},
   "source": [
    "### Com imagens"
   ]
  }
 ],
 "metadata": {
  "kernelspec": {
   "display_name": "Python 3",
   "language": "python",
   "name": "python3"
  },
  "language_info": {
   "codemirror_mode": {
    "name": "ipython",
    "version": 3
   },
   "file_extension": ".py",
   "mimetype": "text/x-python",
   "name": "python",
   "nbconvert_exporter": "python",
   "pygments_lexer": "ipython3",
   "version": "3.6.0"
  },
  "toc": {
   "colors": {
    "hover_highlight": "#DAA520",
    "running_highlight": "#FF0000",
    "selected_highlight": "#FFD700"
   },
   "moveMenuLeft": true,
   "nav_menu": {
    "height": "84px",
    "width": "252px"
   },
   "navigate_menu": true,
   "number_sections": true,
   "sideBar": true,
   "threshold": 4,
   "toc_cell": false,
   "toc_section_display": "block",
   "toc_window_display": false
  }
 },
 "nbformat": 4,
 "nbformat_minor": 2
}
