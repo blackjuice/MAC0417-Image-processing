{
 "cells": [
  {
   "cell_type": "markdown",
   "metadata": {},
   "source": [
    "# Transformação de intensidade, Realce e Equalização de histograma\n",
    "\n",
    "O objetivo destas atividades é explorar várias formas de mapeamento dos valores\n",
    "dos pixels. É a categoria de funções que apenas alteram o valor do pixel aplicando-se\n",
    "uma função ou tabela de mapeamento. Veremos que é possível implementar várias\n",
    "funções de melhoria de contraste e brilho da imagem.\n",
    "\n",
    "1. Estude atentamente o tutorial sobre Transformada de intensidade. Ele mostra como\n",
    "   podemos fazer estas operações de forma eficiente através de uma tabela de mapeamento:\n",
    "\n",
    "   - [Tutorial sobre Transformação de Intensidade](../master/tutorial_ti_2.ipynb)\n",
    "\n",
    "2. Um dos exercícios tradicionais em processamento de imagens é a equalização de histograma.\n",
    "   O tutorial a seguir ilustra como fazer isto de forma simples e eficiente no NumPy:\n",
    "\n",
    "   - [Tutorial sobre equalização de histograma](../master/tutorial_hist_eq_2.ipynb)\n",
    "   \n",
    "3. É possível fazer a equalização da imagem utilizando também o conceito usado para\n",
    "   construir um mosaico com tons de cinza igualmente distribuídos. Confira esta forma\n",
    "   intuitiva e eficiente de se equalizar a distribuição de pixels na imagem.\n",
    "   \n",
    "   - [Tutorial equalização de histograma por montagem de mosaico](../master/tutorial_pehist_1.ipynb)\n",
    " \n",
    "4. Acompanhando o tutorial anterior é possível estendê-lo para transformar a imagem para\n",
    "   ter um histograma especificado. Acompanhe o desenvolvimento desta forma simples de\n",
    "   especificação de histograma:\n",
    "   \n",
    "   - [Tutorial sobre especificação de histograma](../master/tutorial_pehist_2.ipynb)\n"
   ]
  },
  {
   "cell_type": "markdown",
   "metadata": {
    "collapsed": true
   },
   "source": [
    "## Normalização da imagem para média zero e variância um\n",
    "\n",
    "É comum se fazer uma normalização da imagem de modo que ela fique em ponto flutuante, com média zero e variância um.\n",
    "\n"
   ]
  },
  {
   "cell_type": "markdown",
   "metadata": {},
   "source": [
    "## Correção gama"
   ]
  }
 ],
 "metadata": {
  "kernelspec": {
   "display_name": "Python 3",
   "language": "python",
   "name": "python3"
  },
  "language_info": {
   "codemirror_mode": {
    "name": "ipython",
    "version": 3
   },
   "file_extension": ".py",
   "mimetype": "text/x-python",
   "name": "python",
   "nbconvert_exporter": "python",
   "pygments_lexer": "ipython3",
   "version": "3.4.3"
  },
  "toc": {
   "colors": {
    "hover_highlight": "#DAA520",
    "running_highlight": "#FF0000",
    "selected_highlight": "#FFD700"
   },
   "moveMenuLeft": true,
   "nav_menu": {
    "height": "48px",
    "width": "252px"
   },
   "navigate_menu": true,
   "number_sections": true,
   "sideBar": true,
   "threshold": 4,
   "toc_cell": false,
   "toc_section_display": "block",
   "toc_window_display": false
  }
 },
 "nbformat": 4,
 "nbformat_minor": 2
}
