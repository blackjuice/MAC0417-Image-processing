{
 "cells": [
  {
   "cell_type": "markdown",
   "metadata": {
    "deletable": true,
    "editable": true
   },
   "source": [
    "# Aula 5\n",
    "\n",
    "- Transformação Intensidade:\n",
    "    - [Discussão sobre os exercícios para serem entregues](../../Lista Alunos e Entregas.ipynb)\n",
    "    - [Normalização com percentil](../deliver/Normalizacao_com_percentil.ipynb)\n",
    "    - [Ajuste Interativo de Contraste](../master/tutorial_contraste_iterativo_2.ipynb)\n",
    "    - [Widgets interativos no Jupyter](../dev/widgets_Using Interact.ipynb) - em inglês\n",
    "    \n",
    "- Exercícios para a próxima aula:\n",
    "    - Implementar uma widget interativa do ajuste de contraste utilizando o Window e Level\n",
    "    - Implementar a função g = normperc(f, perc), onde f é a imagem de entrada e perc é a porcentagem entre 0.0 e 1.0."
   ]
  },
  {
   "cell_type": "markdown",
   "metadata": {
    "deletable": true,
    "editable": true
   },
   "source": [
    "# Aula 6\n",
    "\n",
    "- Transformação Geométrica:\n",
    "    - [Aprendendo Transformação Afim](../deliver/Aprendendo_affine.ipynb)\n",
    "    \n",
    "- Operadores de Vizinhança\n",
    "    - [Translação periódica](../deliver/Atividade_4_1.ipynb)\n",
    "    - [Convolução discreta](../deliver/Atividade_4_2.ipynb)"
   ]
  },
  {
   "cell_type": "code",
   "execution_count": 24,
   "metadata": {
    "ExecuteTime": {
     "end_time": "2017-04-06T11:53:00.366396",
     "start_time": "2017-04-06T11:53:00.350924"
    },
    "collapsed": false
   },
   "outputs": [
    {
     "name": "stdout",
     "output_type": "stream",
     "text": [
      "[0 0 1 1 2 2] [0 2 0 2 0 2]\n",
      "[[0 0]\n",
      " [0 2]\n",
      " [1 0]\n",
      " [1 2]\n",
      " [2 0]\n",
      " [2 2]]\n"
     ]
    }
   ],
   "source": [
    "import numpy as np\n",
    "h = np.array([[-1,0,1],\n",
    "             [-2,0,2],\n",
    "             [-1,0,1]])\n",
    "r,c = np.nonzero(h)\n",
    "print(r,c)\n",
    "xx = np.transpose(np.nonzero(h))\n",
    "print(xx)\n"
   ]
  },
  {
   "cell_type": "markdown",
   "metadata": {},
   "source": [
    "## Exercícios para a próxima aula, dia 27 de abril\n",
    "\n",
    "Entregar no folder Aula_6:\n",
    "\n",
    "Modificações da função affine (apenas caso bidimensional):"
   ]
  },
  {
   "cell_type": "markdown",
   "metadata": {},
   "source": [
    "1. [affine_direta(f,T,domain=0)](https://t-adessowiki.fee.unicamp.br/user/aluno/notebooks/ia898_1s2017/aluno/Aula_6/affine_direta.ipynb)\n",
    "\n",
    "    Implementação da affine porém utilizando a transformação direta\n",
    "\n",
    "2. [affine2(f,T,domain=0)](https://t-adessowiki.fee.unicamp.br/user/aluno/notebooks/ia898_1s2017/aluno/Aula_6/affine2.ipynb)\n",
    "\n",
    "    affine, porém colocando zeros nos pixels que caem fora da imagem de entrada\n",
    "    \n",
    "3. [ptrans(f,t)](https://t-adessowiki.fee.unicamp.br/user/aluno/notebooks/ia898_1s2017/aluno/Aula_6/ptrans.ipynb)\n",
    "\n",
    "    onde t é uma tupla (rr,cc) informando a translação em row e col.\n",
    "\n",
    "    implementar a translação periódica, utilizando-se cópia de 4 fatiamentos\n",
    "    \n",
    "    comparar com"
   ]
  },
  {
   "cell_type": "code",
   "execution_count": null,
   "metadata": {
    "collapsed": true
   },
   "outputs": [],
   "source": [
    "import numpy as np\n",
    "def ptrans(f,t):\n",
    "   H,W = f.shape\n",
    "   rr,cc = t\n",
    "   row,col = np.indices(f.shape)\n",
    "   g = f[(row-rr)%H, (col-cc)%W]\n",
    "   return g"
   ]
  },
  {
   "cell_type": "markdown",
   "metadata": {},
   "source": [
    "4. Converter para ipynb e melhorar (com bons exemplos e equações) as demonstrações feitas no adessowiki:\n",
    "\n",
    "  - [tutorial_conv_3](https://t-adessowiki.fee.unicamp.br/user/aluno/notebooks/ia898_1s2017/aluno/Aula_6/tutorial_conv_3.ipynb)\n",
    "  - [tutorial_convprop_3](https://t-adessowiki.fee.unicamp.br/user/aluno/notebooks/ia898_1s2017/aluno/Aula_6/tutorial_convprop_3.ipynb)"
   ]
  },
  {
   "cell_type": "markdown",
   "metadata": {
    "deletable": true,
    "editable": true
   },
   "source": [
    "## Notebooks que precisam ser feitos\n",
    "\n",
    "- src/ptrans\n",
    "- src/text\n",
    "- src/gshow\n",
    "- src/nshow\n",
    "- master/tutorial_conv_3\n",
    "- master/tutorial_convprop_3"
   ]
  },
  {
   "cell_type": "markdown",
   "metadata": {
    "deletable": true,
    "editable": true
   },
   "source": [
    "## Como testar uma função ou programa\n",
    "\n",
    "- Função: protótipo\n",
    "- Como testar por exemplo a rgb_hsv?\n",
    "    - se existir uma função já pronto, pode ser comparada tanto com a colorsys como a do matplotlib\n",
    "        - rodar as duas funções em uma imagem e comparar os resultados\n",
    "            - comparação pode ser feita pegando o máximo erro absoluto da diferença entre os resultados\n",
    "        - como escolher o conjunto de dados a serem testados\n",
    "    - se não existir uma função equivalente:\n",
    "        - testar caso numérico bem pequeno, usar o print para interpretar os resultados\n",
    "- Vale a pena também comparar o tempo de execução"
   ]
  },
  {
   "cell_type": "markdown",
   "metadata": {
    "deletable": true,
    "editable": true
   },
   "source": [
    "- iaprofiledemo\n",
    "- iaramp\n",
    "- iait\n",
    "- iagshow\n",
    "- iagaussian\n",
    "- iacos\n",
    "- iaisolines\n",
    "- iagenimages\n",
    "- iagengauss (difícil)"
   ]
  },
  {
   "cell_type": "markdown",
   "metadata": {
    "deletable": true,
    "editable": true
   },
   "source": [
    "## Experimento de teste de programas feitos pelos alunos\n",
    "\n",
    "A ideia é ser possível importar a função do aluno e executá-la aqui para poder testá-la.\n",
    "Para isso, é necessário que os alunos façam seus notebooks na forma da página de função da toolbox ia898."
   ]
  },
  {
   "cell_type": "code",
   "execution_count": 13,
   "metadata": {
    "ExecuteTime": {
     "end_time": "2017-04-06T10:00:11.683676",
     "start_time": "2017-04-06T10:00:11.582267"
    },
    "collapsed": true,
    "deletable": true,
    "editable": true
   },
   "outputs": [],
   "source": [
    "%matplotlib inline\n",
    "import matplotlib.pyplot as plt\n",
    "import matplotlib.image as mpimg\n",
    "import matplotlib.colors as mpc\n",
    "\n",
    "f = mpimg.imread('../data/boat.tif')"
   ]
  },
  {
   "cell_type": "code",
   "execution_count": 16,
   "metadata": {
    "ExecuteTime": {
     "end_time": "2017-04-06T10:01:45.516918",
     "start_time": "2017-04-06T10:01:45.486566"
    },
    "collapsed": false,
    "deletable": true,
    "editable": true
   },
   "outputs": [],
   "source": [
    "f_hsv = mpc.rgb_to_hsv(f)\n"
   ]
  },
  {
   "cell_type": "code",
   "execution_count": 9,
   "metadata": {
    "ExecuteTime": {
     "end_time": "2017-04-06T09:58:23.145687",
     "start_time": "2017-04-06T09:58:23.139199"
    },
    "collapsed": false,
    "deletable": true,
    "editable": true
   },
   "outputs": [],
   "source": [
    "import sys,os\n",
    "homepath = os.path.abspath('/home/lotufo/Aula4_entregue/')\n",
    "if homepath not in sys.path:\n",
    "    sys.path.append(homepath)"
   ]
  },
  {
   "cell_type": "code",
   "execution_count": 4,
   "metadata": {
    "ExecuteTime": {
     "end_time": "2017-04-06T09:55:16.021077",
     "start_time": "2017-04-06T09:55:14.338723"
    },
    "collapsed": false
   },
   "outputs": [
    {
     "name": "stdout",
     "output_type": "stream",
     "text": [
      "[NbConvertApp] Converting notebook /home/lotufo/Aula4_entregue/a207744_hsv_to_rgb.ipynb to python\n",
      "[NbConvertApp] Writing 1616 bytes to /home/lotufo/Aula4_entregue/a207744_hsv_to_rgb.py\n"
     ]
    }
   ],
   "source": [
    "! jupyter nbconvert --to 'python' /home/lotufo/Aula4_entregue/a207744_hsv_to_rgb.ipynb"
   ]
  },
  {
   "cell_type": "code",
   "execution_count": 5,
   "metadata": {
    "ExecuteTime": {
     "end_time": "2017-04-06T09:55:18.860064",
     "start_time": "2017-04-06T09:55:18.855348"
    },
    "collapsed": false,
    "deletable": true,
    "editable": true
   },
   "outputs": [],
   "source": [
    "import a207744_hsv_to_rgb"
   ]
  },
  {
   "cell_type": "code",
   "execution_count": 18,
   "metadata": {
    "ExecuteTime": {
     "end_time": "2017-04-06T10:02:31.179816",
     "start_time": "2017-04-06T10:02:31.153273"
    },
    "collapsed": false,
    "deletable": true,
    "editable": true
   },
   "outputs": [
    {
     "name": "stdout",
     "output_type": "stream",
     "text": [
      "(257, 256, 3)\n"
     ]
    }
   ],
   "source": [
    "g = a207744_hsv_to_rgb.hsv_to_rgb(f_hsv[:,:,0],f_hsv[:,:,1],f_hsv[:,:,2])"
   ]
  },
  {
   "cell_type": "code",
   "execution_count": 20,
   "metadata": {
    "ExecuteTime": {
     "end_time": "2017-04-06T10:04:35.884904",
     "start_time": "2017-04-06T10:04:35.876083"
    },
    "collapsed": false
   },
   "outputs": [
    {
     "name": "stdout",
     "output_type": "stream",
     "text": [
      "3.0517578125e-05\n"
     ]
    }
   ],
   "source": [
    "import numpy as np\n",
    "print((np.abs(g-f)).max())"
   ]
  }
 ],
 "metadata": {
  "kernelspec": {
   "display_name": "Python 3",
   "language": "python",
   "name": "python3"
  },
  "language_info": {
   "codemirror_mode": {
    "name": "ipython",
    "version": 3
   },
   "file_extension": ".py",
   "mimetype": "text/x-python",
   "name": "python",
   "nbconvert_exporter": "python",
   "pygments_lexer": "ipython3",
   "version": "3.6.0"
  },
  "toc": {
   "colors": {
    "hover_highlight": "#DAA520",
    "running_highlight": "#FF0000",
    "selected_highlight": "#FFD700"
   },
   "moveMenuLeft": true,
   "nav_menu": {
    "height": "30px",
    "width": "252px"
   },
   "navigate_menu": true,
   "number_sections": true,
   "sideBar": true,
   "threshold": 4,
   "toc_cell": false,
   "toc_section_display": "block",
   "toc_window_display": false
  }
 },
 "nbformat": 4,
 "nbformat_minor": 2
}
