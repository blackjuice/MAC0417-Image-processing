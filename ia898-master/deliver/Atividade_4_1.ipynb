{
 "cells": [
  {
   "cell_type": "markdown",
   "metadata": {},
   "source": [
    "# Operadores de Vizinhança\n",
    "\n",
    "\n",
    "Nesta semana iremos exercitar operações de vizinhança, tais como média ponderada móvel (convolução) e\n",
    "Padrão Local Binário que constrói um padrão baseado na vizinhança-8 de cada pixel.\n",
    "\n",
    "Em linguagens de programação estilo C, estes algoritmos de vizinhança são usualmente\n",
    "programados na forma de varredura\n",
    "da janela em toda a imagem. Este estilo de programação não é apropriado para o Numpy. Felizmente, na\n",
    "grande maioria dos casos, é possível trocar o processo de varredura da janela na imagem por um processo de\n",
    "translações da imagem guiadas pelos elementos da janela. Já sabemos que é possível implementar a\n",
    "translação utilizando-se do recurso de fatiamento do NumPy, como vimos na seção \"Translação\" em: \n",
    "\n",
    "- [Processamento de imagens usando fatiamento do NumPy](../master/tutorial_1_imagens.ipynb)\n",
    "\n",
    "Uma decisão inerente aos operadores de vizinhança é sobre o que fazer com os pixels que estão nas primeiras\n",
    "e últimas linhas e colunas, pois a vizinhança destes pixels extrapola a região da imagem. Existem inúmeras\n",
    "soluções que tratam disto. As duas mais comuns são:\n",
    "\n",
    "1. Supor que as imagens são infinitas e fora da imagem todos os pixels são zerados.\n",
    "2. Supor que a imagem se repete nos ladrilhos de uma parede infinita.\n",
    "\n",
    "O primeiro caso será tratado quando formos discutir a convolução linear. O segundo caso implementaremos \n",
    "aqui; sua importância deve-se à teoria de processamento de sinais digitais, em particular à\n",
    "Transformada Discreta de Fourier (que não será assunto de nossas atividades).  É importante mencionar que, \n",
    "neste caso, as imagens são modeladas como periódicas e as translações associadas também são todas periódicas."
   ]
  },
  {
   "cell_type": "markdown",
   "metadata": {},
   "source": [
    "## Translação periódica\n",
    "\n",
    "O objetivo da primeira atividade da semana é fazer uma função que implementa a translação periódica.\n",
    "\n",
    "Existem três versões básicas em que podemos implementar a translação periódica:\n",
    "\n",
    "Veja no breve tutorial em \n",
    "\n",
    "- [Translação periódica](../master/tutorial_ptrans.ipynb)\n",
    "\n",
    "a primeira forma de se implementar\n",
    "a translação. Neste tutorial a translação\n",
    "periódica é implementada replicando-se a imagem 4 vezes e extraindo uma janela do mesmo tamanho da imagem\n",
    "original porém transladada.\n",
    "\n",
    "A segunda forma está feita pela função \n",
    "\n",
    "- [ia898:ptrans](../src/ptrans.ipynb)\n",
    "\n",
    "da toolbox ia898. Nesta função  \n",
    "o algoritmo utilizado usa indexação por arrays, como feito no exercício da\n",
    "semana passada com o \n",
    "\n",
    "- [ia898:affine](../src/affine.ipynb). \n",
    "\n",
    "A operação que permite a periodicidade no cálculo dos índices é\n",
    "o \"módulo\", implementado pelo operador \"%\" do NumPy.\n",
    "\n",
    "Existe uma terceira forma de implementar que é fatiar a imagem em 4 sub-regiões retangulares e \n",
    "reposicioná-las para gerar a imagem periodicamente transladada. É possível que esta última opção seja\n",
    "a mais eficiente de todas, pois somente utiliza fatiamento.\n",
    "\n",
    "A próxima atividade consiste na implementação da translação periódica. Procure fazer 3 versões, conforme\n",
    "a orientação acima.\n",
    "\n",
    "Um dos cuidados nas implementações é observar que os parâmetros da translação podem ser negativos\n",
    "ou ainda bem maiores que a largura ou altura da imagem."
   ]
  }
 ],
 "metadata": {
  "kernelspec": {
   "display_name": "Python 3",
   "language": "python",
   "name": "python3"
  },
  "language_info": {
   "codemirror_mode": {
    "name": "ipython",
    "version": 3
   },
   "file_extension": ".py",
   "mimetype": "text/x-python",
   "name": "python",
   "nbconvert_exporter": "python",
   "pygments_lexer": "ipython3",
   "version": "3.4.3"
  },
  "toc": {
   "colors": {
    "hover_highlight": "#DAA520",
    "running_highlight": "#FF0000",
    "selected_highlight": "#FFD700"
   },
   "moveMenuLeft": true,
   "nav_menu": {
    "height": "48px",
    "width": "252px"
   },
   "navigate_menu": true,
   "number_sections": true,
   "sideBar": true,
   "threshold": 4,
   "toc_cell": false,
   "toc_section_display": "block",
   "toc_window_display": false
  }
 },
 "nbformat": 4,
 "nbformat_minor": 2
}
