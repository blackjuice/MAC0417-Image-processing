{
 "cells": [
  {
   "cell_type": "code",
   "execution_count": null,
   "metadata": {
    "ExecuteTime": {
     "end_time": "2017-03-26T15:25:41.755293",
     "start_time": "2017-03-26T15:25:41.337643"
    },
    "collapsed": false
   },
   "outputs": [],
   "source": [
    "\"\"\"\n",
    "    Module nbpil -- Toolbox nbpil - notebook interface com PIL\n",
    "    -------------------------------------------------------------------\n",
    "    This module provides a link between numpy arrays and PIL, Python Imaging\n",
    "    Library, images. Its functions perform image file I/O (in formats supported\n",
    "    by PIL) and displaying of images represented as numpy arrays. The layout\n",
    "    of these numpy arrays follows the rules of the adimage toolbox images.\n",
    "    -------------------------------------------------------------------\n",
    "    nbimages()    -- List image files located on sys.imagepath, if this variable\n",
    "                     exists, or, otherwise, on sys.path\n",
    "    nbread()      -- Read an image from a file to a numpy array.\n",
    "    nbshow()      -- Display an image\n",
    "    nbwrite()     -- Write an image from a numpy array to an image file. The\n",
    "                     format is deduced from the filename extension.\n",
    "    array2pil()   -- Convert a numpy array to a PIL image\n",
    "    pil2array()   -- Convert a PIL image to a numpy array\n",
    "\n",
    "\"\"\"\n",
    "#\n",
    "__version__ = '0.9 all'\n",
    "\n",
    "__version_string__ = 'Toolbox nbpil V0.9 11Mar2017'\n",
    "\n",
    "from io import StringIO, BytesIO\n",
    "import IPython\n",
    "from IPython.display import display, Image, HTML\n",
    "import base64\n",
    "import numpy as np\n",
    "import PIL\n",
    "from PIL import Image\n",
    "\n",
    "\n",
    "#\n",
    "# =====================================================================\n",
    "#\n",
    "#   Global statements for adread\n",
    "#\n",
    "# =====================================================================\n",
    "def findImageFile(filename):\n",
    "    '''Search image filename in sys.imagepath or sys.path.'''\n",
    "    import sys, os.path\n",
    "    if not os.path.isfile(filename) and not os.path.isabs(filename):\n",
    "        try:\n",
    "            for a in sys.imagepath:\n",
    "                if os.path.isfile(os.path.join(a, filename)):\n",
    "                    filename = os.path.join(a, filename)\n",
    "                    break\n",
    "        except:\n",
    "            for a in sys.path:\n",
    "                if os.path.isfile(os.path.join(a, filename)):\n",
    "                    filename = os.path.join(a, filename)\n",
    "                    break\n",
    "    return filename\n",
    "# =====================================================================\n",
    "#\n",
    "#   nbread\n",
    "#\n",
    "# =====================================================================\n",
    "def nbread(imagefile):\n",
    "    \"\"\"\n",
    "        - Purpose\n",
    "            Read an image from a file to a numpy array.\n",
    "        - Synopsis\n",
    "            arr = nbread(imagefile)\n",
    "        - Input\n",
    "            imagefile: Image file path.\n",
    "        - Output\n",
    "            arr: numpy array representing an image.\n",
    "\n",
    "    \"\"\"\n",
    "\n",
    "    image_path = findImageFile(imagefile)\n",
    "    with Image.open(image_path) as image:         \n",
    "        im_arr = np.fromstring(image.tobytes(), dtype=np.uint8)\n",
    "        im_arr = im_arr.reshape((image.size[1], image.size[0], 3))                                   \n",
    "    return im_arr\n",
    "    \n",
    "# =====================================================================\n",
    "#\n",
    "#   nbreadgray\n",
    "#\n",
    "# =====================================================================\n",
    "def nbreadgray(imagefile):\n",
    "    \"\"\"\n",
    "        - Purpose\n",
    "            Read an image from a file to a numpy array as grayscale.\n",
    "        - Synopsis\n",
    "            arr = nbread(imagefile)\n",
    "        - Input\n",
    "            imagefile: Image file path.\n",
    "        - Output\n",
    "            arr: numpy array representing an image.\n",
    "\n",
    "    \"\"\"\n",
    "    \n",
    "    img = nbread(imagefile)\n",
    "    f = img[:,:,0]*0.299 + img[:,:,1]*0.587 + img[:,:,2]*0.114\n",
    "    return f\n",
    "#\n",
    "# =====================================================================\n",
    "#\n",
    "#   nbwrite\n",
    "#\n",
    "# =====================================================================\n",
    "def nbwrite(imagefile, f):\n",
    "    \"\"\"\n",
    "        - Purpose\n",
    "            Write an image from a numpy array to an image file. The format\n",
    "            is deduced from the filename extension.\n",
    "        - Synopsis\n",
    "            nbwrite(imagefile, arr)\n",
    "        - Input\n",
    "            imagefile: Image file path.\n",
    "            f:         The numpy array to save.\n",
    "\n",
    "    \"\"\"\n",
    "    fi = PIL.Image.fromarray(f)\n",
    "    fi.save(imagefile)\n",
    "    return\n",
    "#\n",
    "# =====================================================================\n",
    "#\n",
    "#   Global statements for nbimages\n",
    "#\n",
    "# =====================================================================\n",
    "def listImageFiles(glb='*'):\n",
    "    '''List image files located on sys.path.'''\n",
    "    import sys, os.path, glob\n",
    "    if os.path.splitext(glb)[1] == '':\n",
    "        imgexts = ['.tif', '.jpg', '.gif', '.png', '.pbm', '.pgm', '.ppm', '.bmp']\n",
    "    else:\n",
    "        imgexts = ['']\n",
    "    images = {}\n",
    "    try:\n",
    "        for dir in sys.imagepath:\n",
    "            for ext in imgexts:\n",
    "                for ff in glob.glob(os.path.join(dir, glb + ext)):\n",
    "                    images[os.path.basename(ff)] = ff\n",
    "    except:\n",
    "        for dir in sys.path:\n",
    "            for ext in imgexts:\n",
    "                for ff in glob.glob(os.path.join(dir, glb + ext)):\n",
    "                    images[os.path.basename(ff)] = ff\n",
    "    return images\n",
    "# =====================================================================\n",
    "#\n",
    "#   nbimages\n",
    "#\n",
    "# =====================================================================\n",
    "def nbimages(glob='*'):\n",
    "    \"\"\"\n",
    "        - Purpose\n",
    "            List image files located on sys.imagepath, if this variable\n",
    "            exists, or, otherwise, on sys.path\n",
    "        - Synopsis\n",
    "            imglist = nbimages(glob='*')\n",
    "        - Input\n",
    "            glob: Default: '*'. Glob string for the image filename.\n",
    "        - Output\n",
    "            imglist: Image filename list.\n",
    "\n",
    "    \"\"\"\n",
    "\n",
    "    lst = list(listImageFiles(glob).keys())\n",
    "    lst.sort()\n",
    "    return lst\n",
    "\n",
    "# =====================================================================\n",
    "#\n",
    "#   nbshow\n",
    "#\n",
    "# =====================================================================\n",
    "\n",
    "class nbshow:\n",
    "    #constructor\n",
    "    def __init__(self, ncols = 3,width = [], fmt = 'png'):\n",
    "        self.imgs = []\n",
    "        self.titles = []\n",
    "        self.ncols = ncols\n",
    "        self.width = []   \n",
    "        self.fmt = fmt\n",
    "        return\n",
    "    #sets figure size. Ex figsize = (12,8)\n",
    "    def set_figsize(self,figsize):\n",
    "        self.figsize = figsize\n",
    "        return\n",
    "    #sets image width\n",
    "    def set_width(self,width):\n",
    "        self.width = width\n",
    "        return    \n",
    "    #displays image in subplot format \n",
    "    #append images to list of images to be displayed\n",
    "    def nbshow(self,img=None,title = \"\",flush=False):\n",
    "        if img is not None:\n",
    "            self.imgs.append(img)\n",
    "            self.titles.append(title)\n",
    "        if (img is None) or flush: \n",
    "            number_of_subplots = len(self.imgs)\n",
    "            imagesList = \"<head><style>\\\n",
    "                table, th, td { border: 0px solid black;\\\n",
    "                text-align: center;border-collapse: collapse;}</style></head>\\\n",
    "                <body><table border=\\\"0\\\">\"\n",
    "            for i,(img,title) in enumerate(zip(self.imgs,self.titles)): \n",
    "                if i%self.ncols == 0:\n",
    "                    imagesList += \"<tr>\"\n",
    "                if img.dtype == bool:\n",
    "                    img = np.uint8(img) * 255\n",
    "                elif img.dtype != np.uint8:\n",
    "                    raise ValueError('Accept only bool ou uint8 image. It was %s with title:%s' % (img.dtype,title)) \n",
    "                #f = StringIO()\n",
    "                f = BytesIO()\n",
    "                # Verify format if (3,H,W), change to (H,W,3)\n",
    "                if (img.ndim == 3) and (img.shape[0] == 3):\n",
    "                    img = img.transpose((1,2,0))\n",
    "                fi = PIL.Image.fromarray(img)\n",
    "                fi.save(f, self.fmt)\n",
    "                imgbuffer = f.getvalue()\n",
    "                img_b64 = str(base64.b64encode(imgbuffer),'utf-8')\n",
    "                imagesList +=\"<td>\\\n",
    "                    <table><tr><td><img src='data:image/png;base64,%s'/></td></tr>\\\n",
    "                    <tr><td align='center'>%s</td></tr></table></td>\" % (img_b64,title)\n",
    "                if i%self.ncols == (self.ncols-1):\n",
    "                    imagesList += \"<tr>\"\n",
    "            imagesList +=\"</tr></table></body>\"\n",
    "            # empties buffer\n",
    "            self.imgs = []\n",
    "            self.titles = []\n",
    "            #print 'imagelist:',imagesList\n",
    "            display(HTML(imagesList))\n",
    "\n",
    "def show(a,fmt='png'):\n",
    "    f = BytesIO()\n",
    "    # Verify format if (3,H,W), change to (H,W,3)\n",
    "    if (a.ndim == 3) and (a.shape[0] == 3):\n",
    "        a = a.transpose((1,2,0))\n",
    "    PIL.Image.fromarray(a).save(f, fmt)\n",
    "    IPython.display.display(IPython.display.Image(data=f.getvalue()))\n",
    "    \n",
    "def adshow(img,title=\"\"):\n",
    "    imagesList = \"<head><style>\\\n",
    "        table, th, td { border: 0px solid black;\\\n",
    "        text-align: center;border-collapse: collapse;}</style></head>\\\n",
    "        <body><table border=\\\"0\\\">\"\n",
    "\n",
    "    if img.dtype == bool:\n",
    "        img = np.uint8(img) * 255\n",
    "    elif img.dtype != np.uint8:\n",
    "        raise ValueError('Accept only bool ou uint8 image. It was %s with title:%s' % (img.dtype,title)) \n",
    "    f = BytesIO()\n",
    "    # Verify format if (3,H,W), change to (H,W,3)\n",
    "    if (img.ndim == 3) and (img.shape[0] == 3):\n",
    "        img = img.transpose((1,2,0))\n",
    "    fi = PIL.Image.fromarray(img)\n",
    "    fi.save(f, 'png')\n",
    "    imgbuffer = f.getvalue()\n",
    "    img_b64 = str(base64.b64encode(imgbuffer),'utf-8')\n",
    "    imagesList +=\"<td>\\\n",
    "            <table><tr><td><img src='data:image/png;base64,%s'/></td></tr>\\\n",
    "            <tr><td align='center'>%s</td></tr></table></td>\" % (img_b64,title)\n",
    "    imagesList += \"<tr>\"\n",
    "    imagesList +=\"</tr></table></body>\"\n",
    "    #print 'imagelist:',imagesList\n",
    "    display(HTML(imagesList))\n",
    "    \n",
    "#\n"
   ]
  },
  {
   "cell_type": "markdown",
   "metadata": {},
   "source": [
    "## Testing"
   ]
  },
  {
   "cell_type": "code",
   "execution_count": 1,
   "metadata": {
    "ExecuteTime": {
     "end_time": "2017-03-26T15:30:13.522422",
     "start_time": "2017-03-26T15:30:13.021871"
    },
    "collapsed": false
   },
   "outputs": [
    {
     "name": "stdout",
     "output_type": "stream",
     "text": [
      "file: /Users/robertoalotufo/mylocalprojects/mylocalprojects/ia898/src/__init__.py\n",
      "ia898 Python Toolbox for Teaching Image  Processing version 0.1 12Mar2017\n"
     ]
    }
   ],
   "source": [
    "testing = __name__ == \"__main__\"\n",
    "\n",
    "if testing:\n",
    "    #print ('name:',__name__)\n",
    "    \n",
    "    import numpy as np\n",
    "    import sys,os\n",
    "    ia898path = os.path.abspath('../..')\n",
    "    if ia898path not in sys.path:\n",
    "        sys.path.append(ia898path)\n",
    "    import ia898.src as ia\n",
    "    dir(ia)\n",
    "    print('file:',ia.__file__)\n",
    "    print(ia.__version__)"
   ]
  },
  {
   "cell_type": "code",
   "execution_count": 3,
   "metadata": {
    "ExecuteTime": {
     "end_time": "2017-03-26T15:30:23.963921",
     "start_time": "2017-03-26T15:30:23.940332"
    },
    "collapsed": false
   },
   "outputs": [
    {
     "data": {
      "text/html": [
       "<head><style>        table, th, td { border: 0px solid black;        text-align: center;border-collapse: collapse;}</style></head>        <body><table border=\"0\"><td>            <table><tr><td><img src='data:image/png;base64,iVBORw0KGgoAAAANSUhEUgAAAQAAAAEACAAAAAB5Gfe6AAAB+0lEQVR4nO3QQREAMAjAMJh/0ZORB42CXnf2tjfHNUAHaA3QAVoDdIDWAB2gNUAHaA3QAVoDdIDWAB2gNUAHaA3QAVoDdIDWAB2gNUAHaA3QAVoDdIDWAB2gNUAHaA3QAVoDdIDWAB2gNUAHaA3QAVoDdIDWAB2gNUAHaA3QAVoDdIDWAB2gNUAHaA3QAVoDdIDWAB2gNUAHaA3QAVoDdIDWAB2gNUAHaA3QAVoDdIDWAB2gNUAHaA3QAVoDdIDWAB2gNUAHaA3QAVoDdIDWAB2gNUAHaA3QAVoDdIDWAB2gNUAHaA3QAVoDdIDWAB2gNUAHaA3QAVoDdIDWAB2gNUAHaA3QAVoDdIDWAB2gNUAHaA3QAVoDdIDWAB2gNUAHaA3QAVoDdIDWAB2gNUAHaA3QAVoDdIDWAB2gNUAHaA3QAVoDdIDWAB2gNUAHaA3QAVoDdIDWAB2gNUAHaA3QAVoDdIDWAB2gNUAHaA3QAVoDdIDWAB2gNUAHaA3QAVoDdIDWAB2gNUAHaA3QAVoDdIDWAB2gNUAHaA3QAVoDdIDWAB2gNUAHaA3QAVoDdIDWAB2gNUAHaA3QAVoDdIDWAB2gNUAHaA3QAVoDdIDWAB2gNUAHaA3QAVoDdIDWAB2gNUAHaA3QAVoDdIDWAB2gNUAHaA3QAVoDdID2AZ2QAv8FqSzOAAAAAElFTkSuQmCC'/></td></tr>            <tr><td align='center'>teste</td></tr></table></td><tr></tr></table></body>"
      ],
      "text/plain": [
       "<IPython.core.display.HTML object>"
      ]
     },
     "metadata": {},
     "output_type": "display_data"
    },
    {
     "data": {
      "image/png": "[encoded data removed]",
      "text/plain": [
       "<IPython.core.display.Image object>"
      ]
     },
     "metadata": {},
     "output_type": "display_data"
    }
   ],
   "source": [
    "if testing:\n",
    "    A = (np.arange(256*256) % 256).reshape(256,256).astype('uint8')\n",
    "    ia.adshow(A,'teste')\n",
    "    ia.show(A)"
   ]
  },
  {
   "cell_type": "code",
   "execution_count": 6,
   "metadata": {
    "ExecuteTime": {
     "end_time": "2017-03-26T15:30:45.515159",
     "start_time": "2017-03-26T15:30:45.456457"
    },
    "collapsed": false
   },
   "outputs": [
    {
     "name": "stdout",
     "output_type": "stream",
     "text": [
      "(3, 256, 256)\n"
     ]
    },
    {
     "data": {
      "text/html": [
       "<head><style>        table, th, td { border: 0px solid black;        text-align: center;border-collapse: collapse;}</style></head>        <body><table border=\"0\"><td>            <table><tr><td><img src='data:image/png;base64,iVBORw0KGgoAAAANSUhEUgAAAQAAAAEACAIAAADTED8xAAACuklEQVR4nO3TAQ0AMAjAMLh/z1zI2szCdu5WqvYGwgxAmgFIMwBpBiDNAKQZgDQDkGYA0gxAmgFIMwBpBiDNAKQZgDQDkGYA0gxAmgFIMwBpBiDNAKQZgDQDkGYA0gxAmgFIMwBpBiDNAKQZgDQDkGYA0gxAmgFIMwBpBiDNAKQZgDQDkGYA0gxAmgFIMwBpBiDNAKQZgDQDkGYA0gxAmgFIMwBpBiDNAKQZgDQDkGYA0gxAmgFIMwBpBiDNAKQZgDQDkGYA0gxAmgFIMwBpBiDNAKQZgDQDkGYA0gxAmgFIMwBpBiDNAKQZgDQDkGYA0gxAmgFIMwBpBiDNAKQZgDQDkGYA0gxAmgFIMwBpBiDNAKQZgDQDkGYA0gxAmgFIMwBpBiDNAKQZgDQDkGYA0gxAmgFIMwBpBiDNAKQZgDQDkGYA0gxAmgFIMwBpBiDNAKQZgDQDkGYA0gxAmgFIMwBpBiDNAKQZgDQDkGYA0gxAmgFIMwBpBiDNAKQZgDQDkGYA0gxAmgFIMwBpBiDNAKQZgDQDkGYA0gxAmgFIMwBpBiDNAKQZgDQDkGYA0gxAmgFIMwBpBiDNAKQZgDQDkGYA0gxAmgFIMwBpBiDNAKQZgDQDkGYA0gxAmgFIMwBpBiDNAKQZgDQDkGYA0gxAmgFIMwBpBiDNAKQZgDQDkGYA0gxAmgFIMwBpBiDNAKQZgDQDkGYA0gxAmgFIMwBpBiDNAKQZgDQDkGYA0gxAmgFIMwBpBiDNAKQZgDQDkGYA0gxAmgFIMwBpBiDNAKQZgDQDkGYA0gxAmgFIMwBpBiDNAKQZgDQDkGYA0gxAmgFIMwBpBiDNAKQZgDQDkGYA0gxAmgFIMwBpBiDNAKQZgDQDkGYA0gxAmgFIMwBpBiDNAKQZgDQDkGYA0gxAmgFIMwBpBiDNAKQZgLQPeLgBHezelwwAAAAASUVORK5CYII='/></td></tr>            <tr><td align='center'></td></tr></table></td><tr></tr></table></body>"
      ],
      "text/plain": [
       "<IPython.core.display.HTML object>"
      ]
     },
     "metadata": {},
     "output_type": "display_data"
    },
    {
     "data": {
      "image/png": "[encoded data removed]",
      "text/plain": [
       "<IPython.core.display.Image object>"
      ]
     },
     "metadata": {},
     "output_type": "display_data"
    },
    {
     "name": "stdout",
     "output_type": "stream",
     "text": [
      "(256, 256, 3)\n"
     ]
    },
    {
     "data": {
      "text/html": [
       "<head><style>        table, th, td { border: 0px solid black;        text-align: center;border-collapse: collapse;}</style></head>        <body><table border=\"0\"><td>            <table><tr><td><img src='data:image/png;base64,iVBORw0KGgoAAAANSUhEUgAAAQAAAAEACAIAAADTED8xAAACuklEQVR4nO3TAQ0AMAjAMLh/z1zI2szCdu5WqvYGwgxAmgFIMwBpBiDNAKQZgDQDkGYA0gxAmgFIMwBpBiDNAKQZgDQDkGYA0gxAmgFIMwBpBiDNAKQZgDQDkGYA0gxAmgFIMwBpBiDNAKQZgDQDkGYA0gxAmgFIMwBpBiDNAKQZgDQDkGYA0gxAmgFIMwBpBiDNAKQZgDQDkGYA0gxAmgFIMwBpBiDNAKQZgDQDkGYA0gxAmgFIMwBpBiDNAKQZgDQDkGYA0gxAmgFIMwBpBiDNAKQZgDQDkGYA0gxAmgFIMwBpBiDNAKQZgDQDkGYA0gxAmgFIMwBpBiDNAKQZgDQDkGYA0gxAmgFIMwBpBiDNAKQZgDQDkGYA0gxAmgFIMwBpBiDNAKQZgDQDkGYA0gxAmgFIMwBpBiDNAKQZgDQDkGYA0gxAmgFIMwBpBiDNAKQZgDQDkGYA0gxAmgFIMwBpBiDNAKQZgDQDkGYA0gxAmgFIMwBpBiDNAKQZgDQDkGYA0gxAmgFIMwBpBiDNAKQZgDQDkGYA0gxAmgFIMwBpBiDNAKQZgDQDkGYA0gxAmgFIMwBpBiDNAKQZgDQDkGYA0gxAmgFIMwBpBiDNAKQZgDQDkGYA0gxAmgFIMwBpBiDNAKQZgDQDkGYA0gxAmgFIMwBpBiDNAKQZgDQDkGYA0gxAmgFIMwBpBiDNAKQZgDQDkGYA0gxAmgFIMwBpBiDNAKQZgDQDkGYA0gxAmgFIMwBpBiDNAKQZgDQDkGYA0gxAmgFIMwBpBiDNAKQZgDQDkGYA0gxAmgFIMwBpBiDNAKQZgDQDkGYA0gxAmgFIMwBpBiDNAKQZgDQDkGYA0gxAmgFIMwBpBiDNAKQZgDQDkGYA0gxAmgFIMwBpBiDNAKQZgDQDkGYA0gxAmgFIMwBpBiDNAKQZgLQPeLgBHezelwwAAAAASUVORK5CYII='/></td></tr>            <tr><td align='center'>teste</td></tr></table></td><tr></tr></table></body>"
      ],
      "text/plain": [
       "<IPython.core.display.HTML object>"
      ]
     },
     "metadata": {},
     "output_type": "display_data"
    },
    {
     "data": {
      "image/png": "[encoded data removed]",
      "text/plain": [
       "<IPython.core.display.Image object>"
      ]
     },
     "metadata": {},
     "output_type": "display_data"
    }
   ],
   "source": [
    "if testing:\n",
    "    R = (np.arange(256*256) % 256).reshape(256,256).astype('uint8')\n",
    "    G = 255-R\n",
    "    B = R[:,::-1]\n",
    "    rgb = np.array((R,G,B))\n",
    "    print(rgb.shape)\n",
    "    ia.adshow(rgb)\n",
    "    ia.show(rgb)\n",
    "    ff = rgb.transpose((1,2,0))\n",
    "    print(ff.shape)\n",
    "    ia.adshow(ff,'teste')\n",
    "    ia.show(ff)"
   ]
  },
  {
   "cell_type": "code",
   "execution_count": 7,
   "metadata": {
    "ExecuteTime": {
     "end_time": "2017-03-26T15:30:52.113994",
     "start_time": "2017-03-26T15:30:52.068509"
    },
    "collapsed": false
   },
   "outputs": [
    {
     "data": {
      "text/html": [
       "<head><style>                table, th, td { border: 0px solid black;                text-align: center;border-collapse: collapse;}</style></head>                <body><table border=\"0\"><tr><td>                    <table><tr><td><img src='data:image/png;base64,iVBORw0KGgoAAAANSUhEUgAAAQAAAAEACAAAAAB5Gfe6AAAB+0lEQVR4nO3QQREAMAjAMJh/0ZORB42CXnf2tjfHNUAHaA3QAVoDdIDWAB2gNUAHaA3QAVoDdIDWAB2gNUAHaA3QAVoDdIDWAB2gNUAHaA3QAVoDdIDWAB2gNUAHaA3QAVoDdIDWAB2gNUAHaA3QAVoDdIDWAB2gNUAHaA3QAVoDdIDWAB2gNUAHaA3QAVoDdIDWAB2gNUAHaA3QAVoDdIDWAB2gNUAHaA3QAVoDdIDWAB2gNUAHaA3QAVoDdIDWAB2gNUAHaA3QAVoDdIDWAB2gNUAHaA3QAVoDdIDWAB2gNUAHaA3QAVoDdIDWAB2gNUAHaA3QAVoDdIDWAB2gNUAHaA3QAVoDdIDWAB2gNUAHaA3QAVoDdIDWAB2gNUAHaA3QAVoDdIDWAB2gNUAHaA3QAVoDdIDWAB2gNUAHaA3QAVoDdIDWAB2gNUAHaA3QAVoDdIDWAB2gNUAHaA3QAVoDdIDWAB2gNUAHaA3QAVoDdIDWAB2gNUAHaA3QAVoDdIDWAB2gNUAHaA3QAVoDdIDWAB2gNUAHaA3QAVoDdIDWAB2gNUAHaA3QAVoDdIDWAB2gNUAHaA3QAVoDdIDWAB2gNUAHaA3QAVoDdIDWAB2gNUAHaA3QAVoDdIDWAB2gNUAHaA3QAVoDdIDWAB2gNUAHaA3QAVoDdID2AZ2QAv8FqSzOAAAAAElFTkSuQmCC'/></td></tr>                    <tr><td align='center'>apenas uma</td></tr></table></td></tr></table></body>"
      ],
      "text/plain": [
       "<IPython.core.display.HTML object>"
      ]
     },
     "metadata": {},
     "output_type": "display_data"
    },
    {
     "data": {
      "text/html": [
       "<head><style>                table, th, td { border: 0px solid black;                text-align: center;border-collapse: collapse;}</style></head>                <body><table border=\"0\"><tr><td>                    <table><tr><td><img src='data:image/png;base64,iVBORw0KGgoAAAANSUhEUgAAAQAAAAEACAAAAAB5Gfe6AAAB+0lEQVR4nO3QQREAMAjAMJh/0ZORB42CXnf2tjfHNUAHaA3QAVoDdIDWAB2gNUAHaA3QAVoDdIDWAB2gNUAHaA3QAVoDdIDWAB2gNUAHaA3QAVoDdIDWAB2gNUAHaA3QAVoDdIDWAB2gNUAHaA3QAVoDdIDWAB2gNUAHaA3QAVoDdIDWAB2gNUAHaA3QAVoDdIDWAB2gNUAHaA3QAVoDdIDWAB2gNUAHaA3QAVoDdIDWAB2gNUAHaA3QAVoDdIDWAB2gNUAHaA3QAVoDdIDWAB2gNUAHaA3QAVoDdIDWAB2gNUAHaA3QAVoDdIDWAB2gNUAHaA3QAVoDdIDWAB2gNUAHaA3QAVoDdIDWAB2gNUAHaA3QAVoDdIDWAB2gNUAHaA3QAVoDdIDWAB2gNUAHaA3QAVoDdIDWAB2gNUAHaA3QAVoDdIDWAB2gNUAHaA3QAVoDdIDWAB2gNUAHaA3QAVoDdIDWAB2gNUAHaA3QAVoDdIDWAB2gNUAHaA3QAVoDdIDWAB2gNUAHaA3QAVoDdIDWAB2gNUAHaA3QAVoDdIDWAB2gNUAHaA3QAVoDdIDWAB2gNUAHaA3QAVoDdIDWAB2gNUAHaA3QAVoDdIDWAB2gNUAHaA3QAVoDdIDWAB2gNUAHaA3QAVoDdIDWAB2gNUAHaA3QAVoDdID2AZ2QAv8FqSzOAAAAAElFTkSuQmCC'/></td></tr>                    <tr><td align='center'>legenda 0</td></tr></table></td><td>                    <table><tr><td><img src='data:image/png;base64,iVBORw0KGgoAAAANSUhEUgAAAQAAAAEACAAAAAB5Gfe6AAAB+0lEQVR4nO3QQREAMAjAMJh/0ZORB42CXnf2tjfHNUAHaA3QAVoDdIDWAB2gNUAHaA3QAVoDdIDWAB2gNUAHaA3QAVoDdIDWAB2gNUAHaA3QAVoDdIDWAB2gNUAHaA3QAVoDdIDWAB2gNUAHaA3QAVoDdIDWAB2gNUAHaA3QAVoDdIDWAB2gNUAHaA3QAVoDdIDWAB2gNUAHaA3QAVoDdIDWAB2gNUAHaA3QAVoDdIDWAB2gNUAHaA3QAVoDdIDWAB2gNUAHaA3QAVoDdIDWAB2gNUAHaA3QAVoDdIDWAB2gNUAHaA3QAVoDdIDWAB2gNUAHaA3QAVoDdIDWAB2gNUAHaA3QAVoDdIDWAB2gNUAHaA3QAVoDdIDWAB2gNUAHaA3QAVoDdIDWAB2gNUAHaA3QAVoDdIDWAB2gNUAHaA3QAVoDdIDWAB2gNUAHaA3QAVoDdIDWAB2gNUAHaA3QAVoDdIDWAB2gNUAHaA3QAVoDdIDWAB2gNUAHaA3QAVoDdIDWAB2gNUAHaA3QAVoDdIDWAB2gNUAHaA3QAVoDdIDWAB2gNUAHaA3QAVoDdIDWAB2gNUAHaA3QAVoDdIDWAB2gNUAHaA3QAVoDdIDWAB2gNUAHaA3QAVoDdIDWAB2gNUAHaA3QAVoDdIDWAB2gNUAHaA3QAVoDdID2AZ2QAv8FqSzOAAAAAElFTkSuQmCC'/></td></tr>                    <tr><td align='center'>legenda 1</td></tr></table></td><td>                    <table><tr><td><img src='data:image/png;base64,iVBORw0KGgoAAAANSUhEUgAAAQAAAAEACAAAAAB5Gfe6AAAB+0lEQVR4nO3QQREAMAjAMJh/0ZORB42CXnf2tjfHNUAHaA3QAVoDdIDWAB2gNUAHaA3QAVoDdIDWAB2gNUAHaA3QAVoDdIDWAB2gNUAHaA3QAVoDdIDWAB2gNUAHaA3QAVoDdIDWAB2gNUAHaA3QAVoDdIDWAB2gNUAHaA3QAVoDdIDWAB2gNUAHaA3QAVoDdIDWAB2gNUAHaA3QAVoDdIDWAB2gNUAHaA3QAVoDdIDWAB2gNUAHaA3QAVoDdIDWAB2gNUAHaA3QAVoDdIDWAB2gNUAHaA3QAVoDdIDWAB2gNUAHaA3QAVoDdIDWAB2gNUAHaA3QAVoDdIDWAB2gNUAHaA3QAVoDdIDWAB2gNUAHaA3QAVoDdIDWAB2gNUAHaA3QAVoDdIDWAB2gNUAHaA3QAVoDdIDWAB2gNUAHaA3QAVoDdIDWAB2gNUAHaA3QAVoDdIDWAB2gNUAHaA3QAVoDdIDWAB2gNUAHaA3QAVoDdIDWAB2gNUAHaA3QAVoDdIDWAB2gNUAHaA3QAVoDdIDWAB2gNUAHaA3QAVoDdIDWAB2gNUAHaA3QAVoDdIDWAB2gNUAHaA3QAVoDdIDWAB2gNUAHaA3QAVoDdIDWAB2gNUAHaA3QAVoDdIDWAB2gNUAHaA3QAVoDdIDWAB2gNUAHaA3QAVoDdID2AZ2QAv8FqSzOAAAAAElFTkSuQmCC'/></td></tr>                    <tr><td align='center'>legenda 2</td></tr></table></td><tr><tr><td>                    <table><tr><td><img src='data:image/png;base64,iVBORw0KGgoAAAANSUhEUgAAAQAAAAEACAAAAAB5Gfe6AAAB+0lEQVR4nO3QQREAMAjAMJh/0ZORB42CXnf2tjfHNUAHaA3QAVoDdIDWAB2gNUAHaA3QAVoDdIDWAB2gNUAHaA3QAVoDdIDWAB2gNUAHaA3QAVoDdIDWAB2gNUAHaA3QAVoDdIDWAB2gNUAHaA3QAVoDdIDWAB2gNUAHaA3QAVoDdIDWAB2gNUAHaA3QAVoDdIDWAB2gNUAHaA3QAVoDdIDWAB2gNUAHaA3QAVoDdIDWAB2gNUAHaA3QAVoDdIDWAB2gNUAHaA3QAVoDdIDWAB2gNUAHaA3QAVoDdIDWAB2gNUAHaA3QAVoDdIDWAB2gNUAHaA3QAVoDdIDWAB2gNUAHaA3QAVoDdIDWAB2gNUAHaA3QAVoDdIDWAB2gNUAHaA3QAVoDdIDWAB2gNUAHaA3QAVoDdIDWAB2gNUAHaA3QAVoDdIDWAB2gNUAHaA3QAVoDdIDWAB2gNUAHaA3QAVoDdIDWAB2gNUAHaA3QAVoDdIDWAB2gNUAHaA3QAVoDdIDWAB2gNUAHaA3QAVoDdIDWAB2gNUAHaA3QAVoDdIDWAB2gNUAHaA3QAVoDdIDWAB2gNUAHaA3QAVoDdIDWAB2gNUAHaA3QAVoDdIDWAB2gNUAHaA3QAVoDdIDWAB2gNUAHaA3QAVoDdIDWAB2gNUAHaA3QAVoDdID2AZ2QAv8FqSzOAAAAAElFTkSuQmCC'/></td></tr>                    <tr><td align='center'>legenda 3</td></tr></table></td></tr></table></body>"
      ],
      "text/plain": [
       "<IPython.core.display.HTML object>"
      ]
     },
     "metadata": {},
     "output_type": "display_data"
    }
   ],
   "source": [
    "if testing:\n",
    "    A = (np.arange(256*256) % 256).reshape(256,256).astype('uint8')\n",
    "    nb = ia.nbshow(3)\n",
    "    nb.nbshow(A,'apenas uma', flush=True)\n",
    "    for i in range(4):\n",
    "        nb.nbshow(A,'legenda %d' % (i,))\n",
    "    nb.nbshow(flush=True)"
   ]
  },
  {
   "cell_type": "code",
   "execution_count": 8,
   "metadata": {
    "ExecuteTime": {
     "end_time": "2017-03-26T15:30:56.235734",
     "start_time": "2017-03-26T15:30:56.167479"
    },
    "collapsed": false
   },
   "outputs": [
    {
     "data": {
      "text/html": [
       "<head><style>                table, th, td { border: 0px solid black;                text-align: center;border-collapse: collapse;}</style></head>                <body><table border=\"0\"><tr><td>                    <table><tr><td><img src='data:image/png;base64,iVBORw0KGgoAAAANSUhEUgAAAQAAAAEACAIAAADTED8xAAACuklEQVR4nO3TAQ0AMAjAMLh/z1zI2szCdu5WqvYGwgxAmgFIMwBpBiDNAKQZgDQDkGYA0gxAmgFIMwBpBiDNAKQZgDQDkGYA0gxAmgFIMwBpBiDNAKQZgDQDkGYA0gxAmgFIMwBpBiDNAKQZgDQDkGYA0gxAmgFIMwBpBiDNAKQZgDQDkGYA0gxAmgFIMwBpBiDNAKQZgDQDkGYA0gxAmgFIMwBpBiDNAKQZgDQDkGYA0gxAmgFIMwBpBiDNAKQZgDQDkGYA0gxAmgFIMwBpBiDNAKQZgDQDkGYA0gxAmgFIMwBpBiDNAKQZgDQDkGYA0gxAmgFIMwBpBiDNAKQZgDQDkGYA0gxAmgFIMwBpBiDNAKQZgDQDkGYA0gxAmgFIMwBpBiDNAKQZgDQDkGYA0gxAmgFIMwBpBiDNAKQZgDQDkGYA0gxAmgFIMwBpBiDNAKQZgDQDkGYA0gxAmgFIMwBpBiDNAKQZgDQDkGYA0gxAmgFIMwBpBiDNAKQZgDQDkGYA0gxAmgFIMwBpBiDNAKQZgDQDkGYA0gxAmgFIMwBpBiDNAKQZgDQDkGYA0gxAmgFIMwBpBiDNAKQZgDQDkGYA0gxAmgFIMwBpBiDNAKQZgDQDkGYA0gxAmgFIMwBpBiDNAKQZgDQDkGYA0gxAmgFIMwBpBiDNAKQZgDQDkGYA0gxAmgFIMwBpBiDNAKQZgDQDkGYA0gxAmgFIMwBpBiDNAKQZgDQDkGYA0gxAmgFIMwBpBiDNAKQZgDQDkGYA0gxAmgFIMwBpBiDNAKQZgDQDkGYA0gxAmgFIMwBpBiDNAKQZgDQDkGYA0gxAmgFIMwBpBiDNAKQZgDQDkGYA0gxAmgFIMwBpBiDNAKQZgDQDkGYA0gxAmgFIMwBpBiDNAKQZgDQDkGYA0gxAmgFIMwBpBiDNAKQZgLQPeLgBHezelwwAAAAASUVORK5CYII='/></td></tr>                    <tr><td align='center'>apenas uma</td></tr></table></td></tr></table></body>"
      ],
      "text/plain": [
       "<IPython.core.display.HTML object>"
      ]
     },
     "metadata": {},
     "output_type": "display_data"
    },
    {
     "data": {
      "text/html": [
       "<head><style>                table, th, td { border: 0px solid black;                text-align: center;border-collapse: collapse;}</style></head>                <body><table border=\"0\"><tr><td>                    <table><tr><td><img src='data:image/png;base64,iVBORw0KGgoAAAANSUhEUgAAAQAAAAEACAIAAADTED8xAAACuklEQVR4nO3TAQ0AMAjAMLh/z1zI2szCdu5WqvYGwgxAmgFIMwBpBiDNAKQZgDQDkGYA0gxAmgFIMwBpBiDNAKQZgDQDkGYA0gxAmgFIMwBpBiDNAKQZgDQDkGYA0gxAmgFIMwBpBiDNAKQZgDQDkGYA0gxAmgFIMwBpBiDNAKQZgDQDkGYA0gxAmgFIMwBpBiDNAKQZgDQDkGYA0gxAmgFIMwBpBiDNAKQZgDQDkGYA0gxAmgFIMwBpBiDNAKQZgDQDkGYA0gxAmgFIMwBpBiDNAKQZgDQDkGYA0gxAmgFIMwBpBiDNAKQZgDQDkGYA0gxAmgFIMwBpBiDNAKQZgDQDkGYA0gxAmgFIMwBpBiDNAKQZgDQDkGYA0gxAmgFIMwBpBiDNAKQZgDQDkGYA0gxAmgFIMwBpBiDNAKQZgDQDkGYA0gxAmgFIMwBpBiDNAKQZgDQDkGYA0gxAmgFIMwBpBiDNAKQZgDQDkGYA0gxAmgFIMwBpBiDNAKQZgDQDkGYA0gxAmgFIMwBpBiDNAKQZgDQDkGYA0gxAmgFIMwBpBiDNAKQZgDQDkGYA0gxAmgFIMwBpBiDNAKQZgDQDkGYA0gxAmgFIMwBpBiDNAKQZgDQDkGYA0gxAmgFIMwBpBiDNAKQZgDQDkGYA0gxAmgFIMwBpBiDNAKQZgDQDkGYA0gxAmgFIMwBpBiDNAKQZgDQDkGYA0gxAmgFIMwBpBiDNAKQZgDQDkGYA0gxAmgFIMwBpBiDNAKQZgDQDkGYA0gxAmgFIMwBpBiDNAKQZgDQDkGYA0gxAmgFIMwBpBiDNAKQZgDQDkGYA0gxAmgFIMwBpBiDNAKQZgDQDkGYA0gxAmgFIMwBpBiDNAKQZgDQDkGYA0gxAmgFIMwBpBiDNAKQZgDQDkGYA0gxAmgFIMwBpBiDNAKQZgLQPeLgBHezelwwAAAAASUVORK5CYII='/></td></tr>                    <tr><td align='center'>legenda 0</td></tr></table></td><td>                    <table><tr><td><img src='data:image/png;base64,iVBORw0KGgoAAAANSUhEUgAAAQAAAAEACAIAAADTED8xAAACuklEQVR4nO3TAQ0AMAjAMLh/z1zI2szCdu5WqvYGwgxAmgFIMwBpBiDNAKQZgDQDkGYA0gxAmgFIMwBpBiDNAKQZgDQDkGYA0gxAmgFIMwBpBiDNAKQZgDQDkGYA0gxAmgFIMwBpBiDNAKQZgDQDkGYA0gxAmgFIMwBpBiDNAKQZgDQDkGYA0gxAmgFIMwBpBiDNAKQZgDQDkGYA0gxAmgFIMwBpBiDNAKQZgDQDkGYA0gxAmgFIMwBpBiDNAKQZgDQDkGYA0gxAmgFIMwBpBiDNAKQZgDQDkGYA0gxAmgFIMwBpBiDNAKQZgDQDkGYA0gxAmgFIMwBpBiDNAKQZgDQDkGYA0gxAmgFIMwBpBiDNAKQZgDQDkGYA0gxAmgFIMwBpBiDNAKQZgDQDkGYA0gxAmgFIMwBpBiDNAKQZgDQDkGYA0gxAmgFIMwBpBiDNAKQZgDQDkGYA0gxAmgFIMwBpBiDNAKQZgDQDkGYA0gxAmgFIMwBpBiDNAKQZgDQDkGYA0gxAmgFIMwBpBiDNAKQZgDQDkGYA0gxAmgFIMwBpBiDNAKQZgDQDkGYA0gxAmgFIMwBpBiDNAKQZgDQDkGYA0gxAmgFIMwBpBiDNAKQZgDQDkGYA0gxAmgFIMwBpBiDNAKQZgDQDkGYA0gxAmgFIMwBpBiDNAKQZgDQDkGYA0gxAmgFIMwBpBiDNAKQZgDQDkGYA0gxAmgFIMwBpBiDNAKQZgDQDkGYA0gxAmgFIMwBpBiDNAKQZgDQDkGYA0gxAmgFIMwBpBiDNAKQZgDQDkGYA0gxAmgFIMwBpBiDNAKQZgDQDkGYA0gxAmgFIMwBpBiDNAKQZgDQDkGYA0gxAmgFIMwBpBiDNAKQZgDQDkGYA0gxAmgFIMwBpBiDNAKQZgDQDkGYA0gxAmgFIMwBpBiDNAKQZgLQPeLgBHezelwwAAAAASUVORK5CYII='/></td></tr>                    <tr><td align='center'>legenda 1</td></tr></table></td><td>                    <table><tr><td><img src='data:image/png;base64,iVBORw0KGgoAAAANSUhEUgAAAQAAAAEACAIAAADTED8xAAACuklEQVR4nO3TAQ0AMAjAMLh/z1zI2szCdu5WqvYGwgxAmgFIMwBpBiDNAKQZgDQDkGYA0gxAmgFIMwBpBiDNAKQZgDQDkGYA0gxAmgFIMwBpBiDNAKQZgDQDkGYA0gxAmgFIMwBpBiDNAKQZgDQDkGYA0gxAmgFIMwBpBiDNAKQZgDQDkGYA0gxAmgFIMwBpBiDNAKQZgDQDkGYA0gxAmgFIMwBpBiDNAKQZgDQDkGYA0gxAmgFIMwBpBiDNAKQZgDQDkGYA0gxAmgFIMwBpBiDNAKQZgDQDkGYA0gxAmgFIMwBpBiDNAKQZgDQDkGYA0gxAmgFIMwBpBiDNAKQZgDQDkGYA0gxAmgFIMwBpBiDNAKQZgDQDkGYA0gxAmgFIMwBpBiDNAKQZgDQDkGYA0gxAmgFIMwBpBiDNAKQZgDQDkGYA0gxAmgFIMwBpBiDNAKQZgDQDkGYA0gxAmgFIMwBpBiDNAKQZgDQDkGYA0gxAmgFIMwBpBiDNAKQZgDQDkGYA0gxAmgFIMwBpBiDNAKQZgDQDkGYA0gxAmgFIMwBpBiDNAKQZgDQDkGYA0gxAmgFIMwBpBiDNAKQZgDQDkGYA0gxAmgFIMwBpBiDNAKQZgDQDkGYA0gxAmgFIMwBpBiDNAKQZgDQDkGYA0gxAmgFIMwBpBiDNAKQZgDQDkGYA0gxAmgFIMwBpBiDNAKQZgDQDkGYA0gxAmgFIMwBpBiDNAKQZgDQDkGYA0gxAmgFIMwBpBiDNAKQZgDQDkGYA0gxAmgFIMwBpBiDNAKQZgDQDkGYA0gxAmgFIMwBpBiDNAKQZgDQDkGYA0gxAmgFIMwBpBiDNAKQZgDQDkGYA0gxAmgFIMwBpBiDNAKQZgDQDkGYA0gxAmgFIMwBpBiDNAKQZgDQDkGYA0gxAmgFIMwBpBiDNAKQZgLQPeLgBHezelwwAAAAASUVORK5CYII='/></td></tr>                    <tr><td align='center'>legenda 2</td></tr></table></td><tr><tr><td>                    <table><tr><td><img src='data:image/png;base64,iVBORw0KGgoAAAANSUhEUgAAAQAAAAEACAIAAADTED8xAAACuklEQVR4nO3TAQ0AMAjAMLh/z1zI2szCdu5WqvYGwgxAmgFIMwBpBiDNAKQZgDQDkGYA0gxAmgFIMwBpBiDNAKQZgDQDkGYA0gxAmgFIMwBpBiDNAKQZgDQDkGYA0gxAmgFIMwBpBiDNAKQZgDQDkGYA0gxAmgFIMwBpBiDNAKQZgDQDkGYA0gxAmgFIMwBpBiDNAKQZgDQDkGYA0gxAmgFIMwBpBiDNAKQZgDQDkGYA0gxAmgFIMwBpBiDNAKQZgDQDkGYA0gxAmgFIMwBpBiDNAKQZgDQDkGYA0gxAmgFIMwBpBiDNAKQZgDQDkGYA0gxAmgFIMwBpBiDNAKQZgDQDkGYA0gxAmgFIMwBpBiDNAKQZgDQDkGYA0gxAmgFIMwBpBiDNAKQZgDQDkGYA0gxAmgFIMwBpBiDNAKQZgDQDkGYA0gxAmgFIMwBpBiDNAKQZgDQDkGYA0gxAmgFIMwBpBiDNAKQZgDQDkGYA0gxAmgFIMwBpBiDNAKQZgDQDkGYA0gxAmgFIMwBpBiDNAKQZgDQDkGYA0gxAmgFIMwBpBiDNAKQZgDQDkGYA0gxAmgFIMwBpBiDNAKQZgDQDkGYA0gxAmgFIMwBpBiDNAKQZgDQDkGYA0gxAmgFIMwBpBiDNAKQZgDQDkGYA0gxAmgFIMwBpBiDNAKQZgDQDkGYA0gxAmgFIMwBpBiDNAKQZgDQDkGYA0gxAmgFIMwBpBiDNAKQZgDQDkGYA0gxAmgFIMwBpBiDNAKQZgDQDkGYA0gxAmgFIMwBpBiDNAKQZgDQDkGYA0gxAmgFIMwBpBiDNAKQZgDQDkGYA0gxAmgFIMwBpBiDNAKQZgDQDkGYA0gxAmgFIMwBpBiDNAKQZgDQDkGYA0gxAmgFIMwBpBiDNAKQZgDQDkGYA0gxAmgFIMwBpBiDNAKQZgLQPeLgBHezelwwAAAAASUVORK5CYII='/></td></tr>                    <tr><td align='center'>legenda 3</td></tr></table></td></tr></table></body>"
      ],
      "text/plain": [
       "<IPython.core.display.HTML object>"
      ]
     },
     "metadata": {},
     "output_type": "display_data"
    }
   ],
   "source": [
    "if testing:\n",
    "    nb = ia.nbshow(3)\n",
    "    nb.nbshow(ff,'apenas uma', flush=True)\n",
    "    for i in range(4):\n",
    "        nb.nbshow(rgb,'legenda %d' % (i,))\n",
    "    nb.nbshow(flush=True)\n",
    "    "
   ]
  },
  {
   "cell_type": "code",
   "execution_count": null,
   "metadata": {
    "collapsed": false
   },
   "outputs": [],
   "source": [
    "\n"
   ]
  },
  {
   "cell_type": "code",
   "execution_count": null,
   "metadata": {
    "collapsed": false
   },
   "outputs": [],
   "source": []
  }
 ],
 "metadata": {
  "kernelspec": {
   "display_name": "Python 3",
   "language": "python",
   "name": "python3"
  },
  "language_info": {
   "codemirror_mode": {
    "name": "ipython",
    "version": 3
   },
   "file_extension": ".py",
   "mimetype": "text/x-python",
   "name": "python",
   "nbconvert_exporter": "python",
   "pygments_lexer": "ipython3",
   "version": "3.6.0"
  },
  "toc": {
   "colors": {
    "hover_highlight": "#DAA520",
    "running_highlight": "#FF0000",
    "selected_highlight": "#FFD700"
   },
   "moveMenuLeft": true,
   "nav_menu": {
    "height": "12px",
    "width": "252px"
   },
   "navigate_menu": true,
   "number_sections": true,
   "sideBar": true,
   "threshold": 4,
   "toc_cell": false,
   "toc_section_display": "block",
   "toc_window_display": false
  }
 },
 "nbformat": 4,
 "nbformat_minor": 2
}
