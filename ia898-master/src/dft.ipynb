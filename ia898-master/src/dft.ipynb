{
 "cells": [
  {
   "cell_type": "markdown",
   "metadata": {
    "deletable": true,
    "editable": true
   },
   "source": [
    "# dft\n",
    "\n",
    "## Synopse\n",
    "\n",
    "Discrete 1D/2D/3D Fourier Transform.\n",
    "\n",
    "- **F = dft(f)**\n",
    "\n",
    "  - **F**: Output Image. \n",
    "  - **f**: Original Image. \n",
    "\n",
    "## Function Code"
   ]
  },
  {
   "cell_type": "code",
   "execution_count": 1,
   "metadata": {
    "ExecuteTime": {
     "end_time": "2017-05-02T22:45:44.095239",
     "start_time": "2017-05-02T22:45:43.672878"
    },
    "collapsed": true,
    "deletable": true,
    "editable": true
   },
   "outputs": [],
   "source": [
    "import numpy as np\n",
    "\n",
    "def dft(f):\n",
    "    from dftmatrix import dftmatrix\n",
    "    f = np.asarray(f).astype(np.float64)\n",
    "    if (len(f.shape) == 1):\n",
    "        m = len(f)\n",
    "        A = dftmatrix(f.shape[0])\n",
    "        F = np.sqrt(m) * A.dot(f)\n",
    "    elif (len(f.shape) == 2):\n",
    "        (m, n) = f.shape\n",
    "        A = dftmatrix(m)\n",
    "        B = dftmatrix(n)\n",
    "        F = np.sqrt(m * n) * (A.dot(f)).dot(B)\n",
    "    else:\n",
    "        (p,m,n) = f.shape\n",
    "        A = dftmatrix(m)\n",
    "        B = dftmatrix(n)\n",
    "        C = dftmatrix(p)\n",
    "        Faux = A.dot(f)\n",
    "        Faux = Faux.dot(B)\n",
    "        F = np.sqrt(p)*np.sqrt(m)*np.sqrt(n)*C.dot(Faux)   \n",
    "    return F"
   ]
  },
  {
   "cell_type": "markdown",
   "metadata": {
    "deletable": true,
    "editable": true
   },
   "source": [
    "## Examples"
   ]
  },
  {
   "cell_type": "code",
   "execution_count": 2,
   "metadata": {
    "ExecuteTime": {
     "end_time": "2017-05-02T22:46:45.389119",
     "start_time": "2017-05-02T22:46:45.381298"
    },
    "collapsed": false,
    "deletable": true,
    "editable": true
   },
   "outputs": [],
   "source": [
    "testing = (__name__ == \"__main__\")\n",
    "\n",
    "if testing:\n",
    "    import numpy as np\n",
    "    import sys,os\n",
    "    ia898path = os.path.abspath('../../')\n",
    "    if ia898path not in sys.path:\n",
    "        sys.path.append(ia898path)\n",
    "    import ia898.src as ia"
   ]
  },
  {
   "cell_type": "markdown",
   "metadata": {
    "deletable": true,
    "editable": true
   },
   "source": [
    "### Numeric Example: comparing proposed with numpy function"
   ]
  },
  {
   "cell_type": "code",
   "execution_count": 3,
   "metadata": {
    "ExecuteTime": {
     "end_time": "2017-05-02T22:47:02.788242",
     "start_time": "2017-05-02T22:47:02.773340"
    },
    "collapsed": false,
    "deletable": true,
    "editable": true
   },
   "outputs": [
    {
     "ename": "ModuleNotFoundError",
     "evalue": "No module named 'dftmatrix'",
     "output_type": "error",
     "traceback": [
      "\u001b[0;31m---------------------------------------------------------------------------\u001b[0m",
      "\u001b[0;31mModuleNotFoundError\u001b[0m                       Traceback (most recent call last)",
      "\u001b[0;32m<ipython-input-3-0d8f6862963f>\u001b[0m in \u001b[0;36m<module>\u001b[0;34m()\u001b[0m\n\u001b[1;32m      2\u001b[0m \u001b[0;34m\u001b[0m\u001b[0m\n\u001b[1;32m      3\u001b[0m     \u001b[0mf\u001b[0m \u001b[0;34m=\u001b[0m \u001b[0mnp\u001b[0m\u001b[0;34m.\u001b[0m\u001b[0marange\u001b[0m\u001b[0;34m(\u001b[0m\u001b[0;36m24\u001b[0m\u001b[0;34m)\u001b[0m\u001b[0;34m.\u001b[0m\u001b[0mreshape\u001b[0m\u001b[0;34m(\u001b[0m\u001b[0;36m2\u001b[0m\u001b[0;34m,\u001b[0m\u001b[0;36m3\u001b[0m\u001b[0;34m,\u001b[0m\u001b[0;36m4\u001b[0m\u001b[0;34m)\u001b[0m \u001b[0;31m# original image with generic axis\u001b[0m\u001b[0;34m\u001b[0m\u001b[0m\n\u001b[0;32m----> 4\u001b[0;31m     \u001b[0mF\u001b[0m \u001b[0;34m=\u001b[0m \u001b[0mdft\u001b[0m\u001b[0;34m(\u001b[0m\u001b[0mf\u001b[0m\u001b[0;34m)\u001b[0m   \u001b[0;31m# proposed dft\u001b[0m\u001b[0;34m\u001b[0m\u001b[0m\n\u001b[0m\u001b[1;32m      5\u001b[0m     \u001b[0mF1\u001b[0m \u001b[0;34m=\u001b[0m \u001b[0mnp\u001b[0m\u001b[0;34m.\u001b[0m\u001b[0mfft\u001b[0m\u001b[0;34m.\u001b[0m\u001b[0mfftn\u001b[0m\u001b[0;34m(\u001b[0m\u001b[0mf\u001b[0m\u001b[0;34m)\u001b[0m \u001b[0;31m# numpy dft\u001b[0m\u001b[0;34m\u001b[0m\u001b[0m\n\u001b[1;32m      6\u001b[0m \u001b[0;34m\u001b[0m\u001b[0m\n",
      "\u001b[0;32m<ipython-input-1-ed0355e67014>\u001b[0m in \u001b[0;36mdft\u001b[0;34m(f)\u001b[0m\n\u001b[1;32m      2\u001b[0m \u001b[0;34m\u001b[0m\u001b[0m\n\u001b[1;32m      3\u001b[0m \u001b[0;32mdef\u001b[0m \u001b[0mdft\u001b[0m\u001b[0;34m(\u001b[0m\u001b[0mf\u001b[0m\u001b[0;34m)\u001b[0m\u001b[0;34m:\u001b[0m\u001b[0;34m\u001b[0m\u001b[0m\n\u001b[0;32m----> 4\u001b[0;31m     \u001b[0;32mfrom\u001b[0m \u001b[0mdftmatrix\u001b[0m \u001b[0;32mimport\u001b[0m \u001b[0mdftmatrix\u001b[0m\u001b[0;34m\u001b[0m\u001b[0m\n\u001b[0m\u001b[1;32m      5\u001b[0m     \u001b[0mf\u001b[0m \u001b[0;34m=\u001b[0m \u001b[0mnp\u001b[0m\u001b[0;34m.\u001b[0m\u001b[0masarray\u001b[0m\u001b[0;34m(\u001b[0m\u001b[0mf\u001b[0m\u001b[0;34m)\u001b[0m\u001b[0;34m.\u001b[0m\u001b[0mastype\u001b[0m\u001b[0;34m(\u001b[0m\u001b[0mnp\u001b[0m\u001b[0;34m.\u001b[0m\u001b[0mfloat64\u001b[0m\u001b[0;34m)\u001b[0m\u001b[0;34m\u001b[0m\u001b[0m\n\u001b[1;32m      6\u001b[0m     \u001b[0;32mif\u001b[0m \u001b[0;34m(\u001b[0m\u001b[0mlen\u001b[0m\u001b[0;34m(\u001b[0m\u001b[0mf\u001b[0m\u001b[0;34m.\u001b[0m\u001b[0mshape\u001b[0m\u001b[0;34m)\u001b[0m \u001b[0;34m==\u001b[0m \u001b[0;36m1\u001b[0m\u001b[0;34m)\u001b[0m\u001b[0;34m:\u001b[0m\u001b[0;34m\u001b[0m\u001b[0m\n",
      "\u001b[0;31mModuleNotFoundError\u001b[0m: No module named 'dftmatrix'"
     ]
    }
   ],
   "source": [
    "if testing:\n",
    "    \n",
    "    f = np.arange(24).reshape(2,3,4) # original image with generic axis\n",
    "    F = dft(f)   # proposed dft\n",
    "    F1 = np.fft.fftn(f) # numpy dft\n",
    "    \n",
    "    print('ia.dft:','\\n',F.round(2),'\\n')\n",
    "    print('fft.fftn:','\\n',F1.round(2),'\\n')\n",
    "    print('Equal Results? (max error)',abs(F1-F).max())"
   ]
  },
  {
   "cell_type": "markdown",
   "metadata": {
    "deletable": true,
    "editable": true
   },
   "source": [
    "### Image example: 2d circle"
   ]
  },
  {
   "cell_type": "code",
   "execution_count": null,
   "metadata": {
    "ExecuteTime": {
     "end_time": "2017-05-02T22:47:51.672710",
     "start_time": "2017-05-02T22:47:51.652356"
    },
    "collapsed": false,
    "deletable": true,
    "editable": true
   },
   "outputs": [],
   "source": [
    "if testing:\n",
    "    \n",
    "    f = 255 * ia.circle([256,256], 10, [129,129])   \n",
    "    ia.adshow(f)\n",
    "    F = dft(f)\n",
    "    Fv = ia.dftview(F)\n",
    "    ia.adshow(Fv)"
   ]
  },
  {
   "cell_type": "markdown",
   "metadata": {
    "deletable": true,
    "editable": true
   },
   "source": [
    "### Image example: 3d square "
   ]
  },
  {
   "cell_type": "code",
   "execution_count": null,
   "metadata": {
    "ExecuteTime": {
     "end_time": "2017-05-02T22:48:35.594905",
     "start_time": "2017-05-02T22:48:35.569782"
    },
    "collapsed": false,
    "deletable": true,
    "editable": true
   },
   "outputs": [],
   "source": [
    "if testing:\n",
    "    \n",
    "    f = np.zeros((25,30,40))\n",
    "    f[10:15,20:26,21:27] = 1\n",
    "    F = dft(f)\n",
    "    ia.adshow(ia.normalize(ia.mosaic(f,5)),'Original Image')\n",
    "    ia.adshow(ia.mosaic(ia.dftview(F),5),'Fourier Transformation')"
   ]
  },
  {
   "cell_type": "markdown",
   "metadata": {
    "deletable": true,
    "editable": true
   },
   "source": [
    "### Comparison with other implementations"
   ]
  },
  {
   "cell_type": "code",
   "execution_count": null,
   "metadata": {
    "ExecuteTime": {
     "end_time": "2017-05-02T22:52:42.664066",
     "start_time": "2017-05-02T22:52:42.603287"
    },
    "collapsed": false,
    "deletable": true,
    "editable": true
   },
   "outputs": [],
   "source": [
    "if testing:\n",
    "    import matplotlib.image as mpimg\n",
    "   \n",
    "    f = mpimg.imread('../data/cameraman.tif')\n",
    "    %time F1 = dft(f)\n",
    "    %time F2 = np.fft.fft2(f)\n",
    "    print('Max difference is:', np.abs(F1-F2).max())"
   ]
  },
  {
   "cell_type": "markdown",
   "metadata": {
    "deletable": true,
    "editable": true
   },
   "source": [
    "## Equation\n",
    "\n",
    "### 1D transformation\n",
    "\n",
    "$$ \\begin{matrix}\n",
    "    F(u) &=& \\sum_{x=0}^{N-1}f(x)\\exp(-j2\\pi\\frac{ux}{N}) \\\\ \n",
    "    & & 0 \\leq x < N, 0 \\leq u < N \\\\ \n",
    "    \\mathbf{F} &=& \\sqrt{N} A_N \\mathbf{f} \n",
    "\\end{matrix} $$"
   ]
  },
  {
   "cell_type": "markdown",
   "metadata": {
    "deletable": true,
    "editable": true
   },
   "source": [
    "### 2D transformation\n",
    "\n",
    "$$ \\begin{matrix}\n",
    "    F(u,v) &=& \\sum_{x=0}^{N-1}\\sum_{y=0}^{M-1}f(x,y)\\exp(-j2\\pi(\\frac{ux}{N} + \\frac{vy}{M})) \\\\\n",
    "     & & (0,0) \\leq (x,y) < (N,M), (0,0) \\leq (u,v) < (N,M) \\\\ \n",
    "    \\mathbf{F} &=& \\sqrt{NM} A_N \\mathbf{f} A_M\n",
    "\\end{matrix} $$"
   ]
  },
  {
   "cell_type": "markdown",
   "metadata": {
    "deletable": true,
    "editable": true
   },
   "source": [
    "### 3D transformation\n",
    "\n",
    "$$ \\begin{matrix}\n",
    "    F(w,u,v) &=& \\sum_{z=0}^{P-1}\\sum_{y=0}^{M-1}\\sum_{x=0}^{N-1}f(z,y,x)\\exp(-j2\\pi(\\frac{wz}{P} + \\frac{uy}{M} + \\frac{vx}{N}))\\\\\n",
    "     & & (0,0,0) \\leq (z,y,x) < (P,M,N), (0,0,0) \\leq (w,u,v) < (P,M,N) \\\\ \n",
    "    \\mathbf{F} &=& \\sqrt{PMN}   (A_P((A_M \\mathbf{f})A_N)) \n",
    "\\end{matrix} $$"
   ]
  },
  {
   "cell_type": "markdown",
   "metadata": {
    "deletable": true,
    "editable": true
   },
   "source": [
    "## See Also\n",
    "\n",
    "* `dftmatrix dftmatrix`  -- Kernel matrix for the DFT Transform.\n",
    "* `iaidft iaidft` -- Inverse Discrete Fourier Transform.\n",
    "* `dftview dftview` -- Discrete Fourier Transform Visualization.\n",
    "\n",
    "## References\n",
    "\n",
    "- http://en.wikipedia.org/wiki/Discrete_Fourier_transform\n",
    "\n",
    "## Contributions\n",
    "\n",
    "- Mariana Pinheiro, 1st semester 2011"
   ]
  }
 ],
 "metadata": {
  "kernelspec": {
   "display_name": "Python 3",
   "language": "python",
   "name": "python3"
  },
  "language_info": {
   "codemirror_mode": {
    "name": "ipython",
    "version": 3
   },
   "file_extension": ".py",
   "mimetype": "text/x-python",
   "name": "python",
   "nbconvert_exporter": "python",
   "pygments_lexer": "ipython3",
   "version": "3.6.0"
  },
  "toc": {
   "colors": {
    "hover_highlight": "#DAA520",
    "running_highlight": "#FF0000",
    "selected_highlight": "#FFD700"
   },
   "moveMenuLeft": true,
   "nav_menu": {
    "height": "84px",
    "width": "252px"
   },
   "navigate_menu": true,
   "number_sections": true,
   "sideBar": true,
   "threshold": 4,
   "toc_cell": false,
   "toc_section_display": "block",
   "toc_window_display": false
  }
 },
 "nbformat": 4,
 "nbformat_minor": 2
}
