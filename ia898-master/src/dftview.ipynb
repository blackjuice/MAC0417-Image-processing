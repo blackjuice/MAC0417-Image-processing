{
 "cells": [
  {
   "cell_type": "markdown",
   "metadata": {},
   "source": [
    "# Function iadftview\n",
    "\n",
    "## Synopse\n",
    "\n",
    "Generate optical Fourier Spectrum from DFT data.\n",
    "\n",
    "- **g = iadftview(F)**\n",
    "    - **OUTPUT**\n",
    "        - **g**: Image. \n",
    "    - **INPUT**\n",
    "        - **F**: Image. n-dimensional DFT complex data.\n",
    "\n",
    "## Description\n",
    "\n",
    "Generate the logarithm of the magnitude of F, shifted so that the origin stays at the center of\n",
    "the image. The objective of this function is to provide DFT spectrum visualization."
   ]
  },
  {
   "cell_type": "code",
   "execution_count": null,
   "metadata": {
    "collapsed": true
   },
   "outputs": [],
   "source": [
    "import numpy as np\n",
    "\n",
    "def dftview(F):\n",
    "    import dftshift\n",
    "    import normalize\n",
    "\n",
    "    FM = dftshift(np.log(np.abs(F)+1))\n",
    "    return normalize(FM).astype(np.uint8)"
   ]
  },
  {
   "cell_type": "markdown",
   "metadata": {},
   "source": [
    "## Examples"
   ]
  },
  {
   "cell_type": "code",
   "execution_count": null,
   "metadata": {
    "collapsed": true
   },
   "outputs": [],
   "source": [
    "testing = (__name__ == \"__main__\")\n",
    "\n",
    "if testing:\n",
    "    import numpy as np\n",
    "    import sys,os\n",
    "    ia898path = os.path.abspath('../../')\n",
    "    if ia898path not in sys.path:\n",
    "        sys.path.append(ia898path)\n",
    "    import ia898.src as ia"
   ]
  },
  {
   "cell_type": "markdown",
   "metadata": {},
   "source": [
    "### Example 1"
   ]
  },
  {
   "cell_type": "code",
   "execution_count": null,
   "metadata": {
    "collapsed": true
   },
   "outputs": [],
   "source": [
    "if testing:\n",
    "    import matplotlib.image as mpimg\n",
    "    import numpy.fft as FFT\n",
    "    f = mpimg.imread('../data/cameraman.tif')\n",
    "    ia.adshow(f, \"Original 2D image - Cameraman\")\n",
    "    F = FFT.fft2(f)\n",
    "    Fv = dftview(F)\n",
    "    ia.adshow(Fv, \"Cameraman DFT optical spectrum\")"
   ]
  },
  {
   "cell_type": "markdown",
   "metadata": {},
   "source": [
    "## Equation\n",
    "\n",
    "\n",
    "$$ \\begin{matrix}\n",
    "    Gaux &=& \\log(|F_{xc,yc}| + 1)\\\\xc     &=& \\lfloor W/2 \\rfloor \\\\yc     &=& \\lfloor H/2 \\rfloor\\\\ G &=& Gaux|_0^{255}\n",
    "\\end{matrix} $$"
   ]
  },
  {
   "cell_type": "markdown",
   "metadata": {},
   "source": [
    "    print 'testing iadftview'\n",
    "    print `iadftview(array([[10+6j,20+5j,30+4j],[40+3j,50+2j,60+1j]]))` == `array(\n",
    "          [[255, 230, 243],\n",
    "           [213, 157, 190]],'b')`"
   ]
  },
  {
   "cell_type": "markdown",
   "metadata": {},
   "source": [
    "## Contributions\n",
    "\n",
    "- André Luis da Costa, 1st semester 2011"
   ]
  }
 ],
 "metadata": {
  "kernelspec": {
   "display_name": "Python 3",
   "language": "python",
   "name": "python3"
  },
  "language_info": {
   "codemirror_mode": {
    "name": "ipython",
    "version": 3
   },
   "file_extension": ".py",
   "mimetype": "text/x-python",
   "name": "python",
   "nbconvert_exporter": "python",
   "pygments_lexer": "ipython3",
   "version": "3.6.0"
  },
  "toc": {
   "colors": {
    "hover_highlight": "#DAA520",
    "running_highlight": "#FF0000",
    "selected_highlight": "#FFD700"
   },
   "moveMenuLeft": true,
   "nav_menu": {
    "height": "48px",
    "width": "252px"
   },
   "navigate_menu": true,
   "number_sections": true,
   "sideBar": true,
   "threshold": 4,
   "toc_cell": false,
   "toc_section_display": "block",
   "toc_window_display": false
  }
 },
 "nbformat": 4,
 "nbformat_minor": 2
}
