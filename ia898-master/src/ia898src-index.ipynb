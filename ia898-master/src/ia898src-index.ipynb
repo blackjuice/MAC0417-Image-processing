{
 "cells": [
  {
   "cell_type": "code",
   "execution_count": 1,
   "metadata": {
    "ExecuteTime": {
     "end_time": "2017-04-05T22:36:51.628127",
     "start_time": "2017-04-05T22:36:51.478242"
    },
    "collapsed": false,
    "deletable": true,
    "editable": true
   },
   "outputs": [
    {
     "name": "stdout",
     "output_type": "stream",
     "text": [
      "GenerateLibrary.ipynb h2percentile.ipynb    nbpil.ipynb\r\n",
      "affine.ipynb          h2stats.ipynb         normalize.ipynb\r\n",
      "applylut.ipynb        histogram.ipynb\r\n",
      "colormap.ipynb        ia898src-index.ipynb\r\n"
     ]
    }
   ],
   "source": [
    "!ls *.ipynb"
   ]
  },
  {
   "cell_type": "markdown",
   "metadata": {
    "deletable": true,
    "editable": true
   },
   "source": [
    "# Funções:\n",
    "\n",
    "- [affine](affine.ipynb) - affine transform\n",
    "- [nbpil](nbpil.ipynb) - adshow, show, nbshow, nbread, nbreadgray, nbwrite\n",
    "- [normalize](normalize.ipynb) - normalize\n",
    "- [histogram](histogram.ipynb) - histogram, histogram_eq, histogram_eq1\n",
    "- [h2stats](h2stats.ipynb) - h2stats\n",
    "- [h2percentile](h2percentile.ipynb) - h2percentile"
   ]
  },
  {
   "cell_type": "markdown",
   "metadata": {
    "deletable": true,
    "editable": true
   },
   "source": [
    "- [Generate Library](GeneratyLibrary.ipynb) - Gera os arquivos .py a partir dos .ipynb\n",
    "- [__init__.py](__init__.py) - Lista das funções do package"
   ]
  }
 ],
 "metadata": {
  "kernelspec": {
   "display_name": "Python 3",
   "language": "python",
   "name": "python3"
  },
  "language_info": {
   "codemirror_mode": {
    "name": "ipython",
    "version": 3
   },
   "file_extension": ".py",
   "mimetype": "text/x-python",
   "name": "python",
   "nbconvert_exporter": "python",
   "pygments_lexer": "ipython3",
   "version": "3.6.0"
  },
  "toc": {
   "colors": {
    "hover_highlight": "#DAA520",
    "running_highlight": "#FF0000",
    "selected_highlight": "#FFD700"
   },
   "moveMenuLeft": true,
   "nav_menu": {
    "height": "30px",
    "width": "252px"
   },
   "navigate_menu": true,
   "number_sections": true,
   "sideBar": true,
   "threshold": 4,
   "toc_cell": false,
   "toc_section_display": "block",
   "toc_window_display": false
  }
 },
 "nbformat": 4,
 "nbformat_minor": 2
}
