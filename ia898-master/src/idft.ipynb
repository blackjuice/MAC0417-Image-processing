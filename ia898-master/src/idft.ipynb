{
 "cells": [
  {
   "cell_type": "markdown",
   "metadata": {
    "deletable": true,
    "editable": true
   },
   "source": [
    "# Function idft\n",
    "\n",
    "## Synopse\n",
    "\n",
    "Inverse Discrete Fourier Transform.\n",
    "\n",
    "- **f = iaidft(F)**\n",
    "\n",
    "  - **f**: Image. \n",
    "\n",
    "\n",
    "  - **F**: Image. "
   ]
  },
  {
   "cell_type": "code",
   "execution_count": null,
   "metadata": {
    "collapsed": true,
    "deletable": true,
    "editable": true
   },
   "outputs": [],
   "source": [
    "import numpy as np\n",
    "\n",
    "def iaidft(F):\n",
    "    from ia636 import iadftmatrix\n",
    "\n",
    "    s = F.shape\n",
    "    if F.dim == 1: F = F[np.newaxis,np.newaxis,:] \n",
    "    if F.dim == 2: F = F[np.newaxis,:,:] \n",
    "\n",
    "    (p,m,n) = F.shape\n",
    "    A = ia.dftmatrix(m)\n",
    "    B = ia.dftmatrix(n)\n",
    "    C = ia.dftmatrix(p)\n",
    "    Faux = np.conjugate(A).dot(F)\n",
    "    Faux = Faux.dot(np.conjugate(B))\n",
    "    f = np.conjugate(C).dot(Faux)/(np.sqrt(p)*np.sqrt(m)*np.sqrt(n))\n",
    "\n",
    "    return f.reshape(s)"
   ]
  },
  {
   "cell_type": "markdown",
   "metadata": {
    "deletable": true,
    "editable": true
   },
   "source": [
    "## Examples\n",
    "\n",
    "\n",
    "### Example 1"
   ]
  },
  {
   "cell_type": "markdown",
   "metadata": {
    "deletable": true,
    "editable": true
   },
   "source": [
    "    from numpy import *\n",
    "    from ia636 import iadft, iaidft\n",
    "    from ia636 import iacircle\n",
    "    from ia636 import ianormalize\n",
    "    from ia636 import iaifftshift\n",
    "    from ia636 import iaisdftsym\n",
    "    from ia636 import iadftview\n",
    "    \n",
    "    f = iaread('cameraman.pgm')\n",
    "    F = iadft(f)\n",
    "    print F.shape\n",
    "    H = iacircle(F.shape, 50,[F.shape[0]/2,F.shape[1]/2] )\n",
    "    H = ianormalize(H,[0,1])\n",
    "    FH = F * iaifftshift(H)\n",
    "    print iaisdftsym(FH)\n",
    "    g=iaidft(FH)\n",
    "    adshow(f)\n",
    "    adshow(iadftview(F))\n",
    "    adshow(ianormalize(H,[0,255]))\n",
    "    adshow(iadftview(FH))\n",
    "    adshow(ianormalize(abs(g)))"
   ]
  },
  {
   "cell_type": "markdown",
   "metadata": {
    "deletable": true,
    "editable": true
   },
   "source": [
    "## Equation\n",
    "\n",
    "$$ \\begin{matrix}\n",
    "    f(x) &=& \\frac{1}{N}\\sum_{u=0}^{N-1}F(u)\\exp(j2\\pi\\frac{ux}{N}) \\\\ & & 0 \\leq x < N, 0 \\leq u < N \\\\ \\mathbf{f}          &=& \\frac{1}{\\sqrt{N}}(A_N)^* \\mathbf{F} \n",
    "\\end{matrix} $$"
   ]
  },
  {
   "cell_type": "markdown",
   "metadata": {
    "deletable": true,
    "editable": true
   },
   "source": [
    "$$ \\begin{matrix}\n",
    "f(x,y) &=& \\frac{1}{NM}\\sum_{u=0}^{N-1}\\sum_{v=0}^{M-1}F(u,v)\\exp(j2\\pi(\\frac{ux}{N} + \\frac{vy}{M})) \\\\ & & (0,0) \\leq (x,y) < (N,M), (0,0) \\leq (u,v) < (N,M) \\\\ \n",
    "    \\mathbf{f} &=& \\frac{1}{\\sqrt{NM}} (A_N)^* \\mathbf{F} (A_M)^*\n",
    "\\end{matrix} $$    "
   ]
  },
  {
   "cell_type": "markdown",
   "metadata": {
    "deletable": true,
    "editable": true
   },
   "source": [
    "## See also\n",
    "\n",
    "- `iadft iadft`\n",
    "- `iadftview iadftview`\n",
    "- `iafftshift iafftshift`\n",
    "- `iaisdftsym iaisdftsym`\n",
    "\n",
    "## Contribution\n"
   ]
  }
 ],
 "metadata": {
  "kernelspec": {
   "display_name": "Python 3",
   "language": "python",
   "name": "python3"
  },
  "language_info": {
   "codemirror_mode": {
    "name": "ipython",
    "version": 3
   },
   "file_extension": ".py",
   "mimetype": "text/x-python",
   "name": "python",
   "nbconvert_exporter": "python",
   "pygments_lexer": "ipython3",
   "version": "3.6.0"
  },
  "toc": {
   "colors": {
    "hover_highlight": "#DAA520",
    "running_highlight": "#FF0000",
    "selected_highlight": "#FFD700"
   },
   "moveMenuLeft": true,
   "nav_menu": {
    "height": "30px",
    "width": "252px"
   },
   "navigate_menu": true,
   "number_sections": true,
   "sideBar": true,
   "threshold": 4,
   "toc_cell": false,
   "toc_section_display": "block",
   "toc_window_display": false
  }
 },
 "nbformat": 4,
 "nbformat_minor": 2
}
